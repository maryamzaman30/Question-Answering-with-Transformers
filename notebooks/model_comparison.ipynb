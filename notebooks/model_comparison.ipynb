{
 "cells": [
  {
   "cell_type": "markdown",
   "metadata": {},
   "source": [
    "# Comprehensive Multilingual QA Model Comparison\n",
    "\n",
    "This notebook provides a comprehensive comparison of transformer models across English and Arabic question answering tasks, analyzing performance, efficiency, and language-specific characteristics."
   ]
  },
  {
   "cell_type": "markdown",
   "metadata": {},
   "source": [
    "## Setup and Imports"
   ]
  },
  {
   "cell_type": "code",
   "execution_count": 2,
   "metadata": {},
   "outputs": [
    {
     "name": "stdout",
     "output_type": "stream",
     "text": [
      "Multilingual QA Model Comparison Framework Initialized\n",
      "============================================================\n"
     ]
    }
   ],
   "source": [
    "import sys\n",
    "sys.path.append('..')\n",
    "\n",
    "import pandas as pd\n",
    "import numpy as np\n",
    "import matplotlib.pyplot as plt\n",
    "import seaborn as sns\n",
    "import plotly.express as px\n",
    "import plotly.graph_objects as go\n",
    "from plotly.subplots import make_subplots\n",
    "import json\n",
    "import time\n",
    "from tqdm.auto import tqdm\n",
    "import warnings\n",
    "warnings.filterwarnings('ignore')\n",
    "\n",
    "# Import our utilities\n",
    "from models.model_handler import ModelHandler\n",
    "from utils.evaluation import QAEvaluator\n",
    "from utils.data_loader import DataLoader\n",
    "from utils.language_detector import LanguageDetector\n",
    "\n",
    "# Set up plotting style\n",
    "plt.style.use('default')\n",
    "sns.set_palette(\"husl\")\n",
    "plt.rcParams['figure.figsize'] = (12, 8)\n",
    "\n",
    "print(\"Multilingual QA Model Comparison Framework Initialized\")\n",
    "print(\"=\" * 60)"
   ]
  },
  {
   "cell_type": "markdown",
   "metadata": {},
   "source": [
    "## Model Definitions and Configuration"
   ]
  },
  {
   "cell_type": "code",
   "execution_count": 3,
   "metadata": {},
   "outputs": [
    {
     "name": "stdout",
     "output_type": "stream",
     "text": [
      "Configured 7 models for comparison:\n",
      "  BERT-Large      | English      | BERT         | 340M    \n",
      "  DistilBERT      | English      | DistilBERT   | 66M     \n",
      "  RoBERTa         | English      | RoBERTa      | 125M    \n",
      "  ALBERT          | English      | ALBERT       | 12M     \n",
      "  mBERT           | Multilingual | BERT         | 179M    \n",
      "  XLM-RoBERTa     | Multilingual | XLM-RoBERTa  | 278M    \n",
      "  AraBERT         | Arabic       | AraBERT      | 136M    \n"
     ]
    }
   ],
   "source": [
    "# Initialize components\n",
    "model_handler = ModelHandler()\n",
    "evaluator = QAEvaluator()\n",
    "data_loader = DataLoader()\n",
    "language_detector = LanguageDetector()\n",
    "\n",
    "# Define comprehensive model comparison\n",
    "models_config = {\n",
    "    # English-specific models\n",
    "    'BERT-Large': {\n",
    "        'model_id': 'bert-large-uncased-whole-word-masking-finetuned-squad',\n",
    "        'language': 'English',\n",
    "        'type': 'BERT',\n",
    "        'size': 'Large',\n",
    "        'parameters': '340M'\n",
    "    },\n",
    "    'DistilBERT': {\n",
    "        'model_id': 'distilbert-base-cased-distilled-squad',\n",
    "        'language': 'English',\n",
    "        'type': 'DistilBERT',\n",
    "        'size': 'Base',\n",
    "        'parameters': '66M'\n",
    "    },\n",
    "    'RoBERTa': {\n",
    "        'model_id': 'deepset/roberta-base-squad2',\n",
    "        'language': 'English',\n",
    "        'type': 'RoBERTa',\n",
    "        'size': 'Base',\n",
    "        'parameters': '125M'\n",
    "    },\n",
    "    'ALBERT': {\n",
    "        'model_id': 'twmkn9/albert-base-v2-squad2',\n",
    "        'language': 'English',\n",
    "        'type': 'ALBERT',\n",
    "        'size': 'Base',\n",
    "        'parameters': '12M'\n",
    "    },\n",
    "    \n",
    "    # Multilingual models\n",
    "    'mBERT': {\n",
    "        'model_id': 'bert-base-multilingual-cased',\n",
    "        'language': 'Multilingual',\n",
    "        'type': 'BERT',\n",
    "        'size': 'Base',\n",
    "        'parameters': '179M'\n",
    "    },\n",
    "    'XLM-RoBERTa': {\n",
    "        'model_id': 'deepset/xlm-roberta-base-squad2',\n",
    "        'language': 'Multilingual',\n",
    "        'type': 'XLM-RoBERTa',\n",
    "        'size': 'Base',\n",
    "        'parameters': '278M'\n",
    "    },\n",
    "    \n",
    "    # Arabic-specific models\n",
    "    'AraBERT': {\n",
    "        'model_id': 'aubmindlab/bert-base-arabertv2-finetuned-squadv1',\n",
    "        'language': 'Arabic',\n",
    "        'type': 'AraBERT',\n",
    "        'size': 'Base',\n",
    "        'parameters': '136M'\n",
    "    }\n",
    "}\n",
    "\n",
    "print(f\"Configured {len(models_config)} models for comparison:\")\n",
    "for name, config in models_config.items():\n",
    "    print(f\"  {name:15} | {config['language']:12} | {config['type']:12} | {config['parameters']:8}\")"
   ]
  },
  {
   "cell_type": "markdown",
   "metadata": {},
   "source": [
    "## Test Dataset Preparation"
   ]
  },
  {
   "cell_type": "code",
   "execution_count": 4,
   "metadata": {},
   "outputs": [
    {
     "name": "stdout",
     "output_type": "stream",
     "text": [
      "Test dataset prepared:\n",
      "  English examples: 3\n",
      "  Arabic examples: 3\n",
      "  Total examples: 6\n"
     ]
    }
   ],
   "source": [
    "# Prepare multilingual test datasets\n",
    "english_test_data = [\n",
    "    {\n",
    "        'context': 'The Amazon rainforest, also known as Amazonia, is a moist broadleaf tropical rainforest in the Amazon biome that covers most of the Amazon basin of South America. This basin encompasses 7,000,000 km2 (2,700,000 sq mi), of which 5,500,000 km2 (2,100,000 sq mi) are covered by the rainforest.',\n",
    "        'question': 'How much area does the Amazon basin cover?',\n",
    "        'answer': '7,000,000 km2',\n",
    "        'language': 'English'\n",
    "    },\n",
    "    {\n",
    "        'context': 'Artificial intelligence (AI) is intelligence demonstrated by machines, in contrast to the natural intelligence displayed by humans and animals. Leading AI textbooks define the field as the study of \"intelligent agents\": any device that perceives its environment and takes actions that maximize its chance of successfully achieving its goals.',\n",
    "        'question': 'What is artificial intelligence?',\n",
    "        'answer': 'intelligence demonstrated by machines',\n",
    "        'language': 'English'\n",
    "    },\n",
    "    {\n",
    "        'context': 'The Great Wall of China is a series of fortifications made of stone, brick, tamped earth, wood, and other materials, generally built along an east-to-west line across the historical northern borders of China to protect the Chinese states and empires against the raids and invasions of the various nomadic groups.',\n",
    "        'question': 'What materials was the Great Wall of China made of?',\n",
    "        'answer': 'stone, brick, tamped earth, wood, and other materials',\n",
    "        'language': 'English'\n",
    "    }\n",
    "]\n",
    "\n",
    "arabic_test_data = [\n",
    "    {\n",
    "        'context': 'القاهرة هي عاصمة جمهورية مصر العربية وأكبر مدنها. تقع على ضفاف نهر النيل في شمال مصر، وهي واحدة من أكبر المدن في أفريقيا والشرق الأوسط. يبلغ عدد سكان القاهرة الكبرى حوالي 20 مليون نسمة.',\n",
    "        'question': 'ما هي عاصمة مصر؟',\n",
    "        'answer': 'القاهرة',\n",
    "        'language': 'Arabic'\n",
    "    },\n",
    "    {\n",
    "        'context': 'الذكاء الاصطناعي هو محاكاة عمليات الذكاء البشري بواسطة الآلات، وخاصة أنظمة الحاسوب. تشمل هذه العمليات التعلم واكتساب المعلومات وقواعد استخدام المعلومات والتفكير المنطقي والتصحيح الذاتي.',\n",
    "        'question': 'ما هو الذكاء الاصطناعي؟',\n",
    "        'answer': 'محاكاة عمليات الذكاء البشري بواسطة الآلات',\n",
    "        'language': 'Arabic'\n",
    "    },\n",
    "    {\n",
    "        'context': 'كرة القدم هي رياضة جماعية تلعب بين فريقين، يتكون كل منهما من أحد عشر لاعباً. تمارس من قبل 250 مليون لاعب في أكثر من مائتي دولة ومنطقة حول العالم، مما يجعلها الرياضة الأكثر شعبية في العالم.',\n",
    "        'question': 'كم عدد اللاعبين في فريق كرة القدم؟',\n",
    "        'answer': 'أحد عشر لاعباً',\n",
    "        'language': 'Arabic'\n",
    "    }\n",
    "]\n",
    "\n",
    "# Combine test datasets\n",
    "all_test_data = english_test_data + arabic_test_data\n",
    "\n",
    "print(f\"Test dataset prepared:\")\n",
    "print(f\"  English examples: {len(english_test_data)}\")\n",
    "print(f\"  Arabic examples: {len(arabic_test_data)}\")\n",
    "print(f\"  Total examples: {len(all_test_data)}\")"
   ]
  },
  {
   "cell_type": "markdown",
   "metadata": {},
   "source": [
    "## Comprehensive Model Evaluation"
   ]
  },
  {
   "cell_type": "code",
   "execution_count": 5,
   "metadata": {},
   "outputs": [
    {
     "name": "stdout",
     "output_type": "stream",
     "text": [
      "Starting comprehensive model evaluation...\n",
      "==================================================\n",
      "\n",
      "Evaluating BERT-Large (English)...\n"
     ]
    },
    {
     "name": "stderr",
     "output_type": "stream",
     "text": [
      "BERT-Large:   0%|          | 0/6 [00:00<?, ?it/s]INFO:models.model_handler:Loading model: bert-large-uncased-whole-word-masking-finetuned-squad\n",
      "INFO:models.model_handler:Successfully loaded model: bert-large-uncased-whole-word-masking-finetuned-squad\n",
      "BERT-Large: 100%|██████████| 6/6 [00:06<00:00,  1.10s/it]\n"
     ]
    },
    {
     "name": "stdout",
     "output_type": "stream",
     "text": [
      "    Overall EM: 0.500, F1: 0.621\n",
      "    Avg Confidence: 0.425, Avg Time: 1.103s\n",
      "\n",
      "Evaluating DistilBERT (English)...\n"
     ]
    },
    {
     "name": "stderr",
     "output_type": "stream",
     "text": [
      "DistilBERT:   0%|          | 0/6 [00:00<?, ?it/s]INFO:models.model_handler:Loading model: distilbert-base-cased-distilled-squad\n",
      "INFO:models.model_handler:Successfully loaded model: distilbert-base-cased-distilled-squad\n",
      "DistilBERT: 100%|██████████| 6/6 [00:01<00:00,  3.07it/s]\n"
     ]
    },
    {
     "name": "stdout",
     "output_type": "stream",
     "text": [
      "    Overall EM: 0.000, F1: 0.376\n",
      "    Avg Confidence: 0.217, Avg Time: 0.326s\n",
      "\n",
      "Evaluating RoBERTa (English)...\n"
     ]
    },
    {
     "name": "stderr",
     "output_type": "stream",
     "text": [
      "RoBERTa:   0%|          | 0/6 [00:00<?, ?it/s]INFO:models.model_handler:Loading model: deepset/roberta-base-squad2\n",
      "INFO:models.model_handler:Successfully loaded model: deepset/roberta-base-squad2\n",
      "RoBERTa: 100%|██████████| 6/6 [00:02<00:00,  2.05it/s]\n"
     ]
    },
    {
     "name": "stdout",
     "output_type": "stream",
     "text": [
      "    Overall EM: 0.333, F1: 0.704\n",
      "    Avg Confidence: 0.226, Avg Time: 0.486s\n",
      "\n",
      "Evaluating ALBERT (English)...\n"
     ]
    },
    {
     "name": "stderr",
     "output_type": "stream",
     "text": [
      "ALBERT:   0%|          | 0/6 [00:00<?, ?it/s]INFO:models.model_handler:Loading model: twmkn9/albert-base-v2-squad2\n",
      "ERROR:models.model_handler:Error loading model twmkn9/albert-base-v2-squad2: Couldn't instantiate the backend tokenizer from one of: \n",
      "(1) a `tokenizers` library serialization file, \n",
      "(2) a slow tokenizer instance to convert or \n",
      "(3) an equivalent slow tokenizer class to instantiate and convert. \n",
      "You need to have sentencepiece installed to convert a slow tokenizer to a fast one.\n",
      "ERROR:models.model_handler:Error getting answer: Couldn't instantiate the backend tokenizer from one of: \n",
      "(1) a `tokenizers` library serialization file, \n",
      "(2) a slow tokenizer instance to convert or \n",
      "(3) an equivalent slow tokenizer class to instantiate and convert. \n",
      "You need to have sentencepiece installed to convert a slow tokenizer to a fast one.\n",
      "ALBERT:  17%|█▋        | 1/6 [00:00<00:02,  2.16it/s]INFO:models.model_handler:Loading model: twmkn9/albert-base-v2-squad2\n",
      "ERROR:models.model_handler:Error loading model twmkn9/albert-base-v2-squad2: Couldn't instantiate the backend tokenizer from one of: \n",
      "(1) a `tokenizers` library serialization file, \n",
      "(2) a slow tokenizer instance to convert or \n",
      "(3) an equivalent slow tokenizer class to instantiate and convert. \n",
      "You need to have sentencepiece installed to convert a slow tokenizer to a fast one.\n",
      "ERROR:models.model_handler:Error getting answer: Couldn't instantiate the backend tokenizer from one of: \n",
      "(1) a `tokenizers` library serialization file, \n",
      "(2) a slow tokenizer instance to convert or \n",
      "(3) an equivalent slow tokenizer class to instantiate and convert. \n",
      "You need to have sentencepiece installed to convert a slow tokenizer to a fast one.\n",
      "ALBERT:  33%|███▎      | 2/6 [00:00<00:01,  2.16it/s]INFO:models.model_handler:Loading model: twmkn9/albert-base-v2-squad2\n",
      "ERROR:models.model_handler:Error loading model twmkn9/albert-base-v2-squad2: Couldn't instantiate the backend tokenizer from one of: \n",
      "(1) a `tokenizers` library serialization file, \n",
      "(2) a slow tokenizer instance to convert or \n",
      "(3) an equivalent slow tokenizer class to instantiate and convert. \n",
      "You need to have sentencepiece installed to convert a slow tokenizer to a fast one.\n",
      "ERROR:models.model_handler:Error getting answer: Couldn't instantiate the backend tokenizer from one of: \n",
      "(1) a `tokenizers` library serialization file, \n",
      "(2) a slow tokenizer instance to convert or \n",
      "(3) an equivalent slow tokenizer class to instantiate and convert. \n",
      "You need to have sentencepiece installed to convert a slow tokenizer to a fast one.\n",
      "ALBERT:  50%|█████     | 3/6 [00:01<00:01,  2.17it/s]INFO:models.model_handler:Loading model: twmkn9/albert-base-v2-squad2\n",
      "ERROR:models.model_handler:Error loading model twmkn9/albert-base-v2-squad2: Couldn't instantiate the backend tokenizer from one of: \n",
      "(1) a `tokenizers` library serialization file, \n",
      "(2) a slow tokenizer instance to convert or \n",
      "(3) an equivalent slow tokenizer class to instantiate and convert. \n",
      "You need to have sentencepiece installed to convert a slow tokenizer to a fast one.\n",
      "ERROR:models.model_handler:Error getting answer: Couldn't instantiate the backend tokenizer from one of: \n",
      "(1) a `tokenizers` library serialization file, \n",
      "(2) a slow tokenizer instance to convert or \n",
      "(3) an equivalent slow tokenizer class to instantiate and convert. \n",
      "You need to have sentencepiece installed to convert a slow tokenizer to a fast one.\n",
      "ALBERT:  67%|██████▋   | 4/6 [00:01<00:00,  2.19it/s]INFO:models.model_handler:Loading model: twmkn9/albert-base-v2-squad2\n",
      "ERROR:models.model_handler:Error loading model twmkn9/albert-base-v2-squad2: Couldn't instantiate the backend tokenizer from one of: \n",
      "(1) a `tokenizers` library serialization file, \n",
      "(2) a slow tokenizer instance to convert or \n",
      "(3) an equivalent slow tokenizer class to instantiate and convert. \n",
      "You need to have sentencepiece installed to convert a slow tokenizer to a fast one.\n",
      "ERROR:models.model_handler:Error getting answer: Couldn't instantiate the backend tokenizer from one of: \n",
      "(1) a `tokenizers` library serialization file, \n",
      "(2) a slow tokenizer instance to convert or \n",
      "(3) an equivalent slow tokenizer class to instantiate and convert. \n",
      "You need to have sentencepiece installed to convert a slow tokenizer to a fast one.\n",
      "ALBERT:  83%|████████▎ | 5/6 [00:02<00:00,  1.49it/s]INFO:models.model_handler:Loading model: twmkn9/albert-base-v2-squad2\n",
      "ERROR:models.model_handler:Error loading model twmkn9/albert-base-v2-squad2: Couldn't instantiate the backend tokenizer from one of: \n",
      "(1) a `tokenizers` library serialization file, \n",
      "(2) a slow tokenizer instance to convert or \n",
      "(3) an equivalent slow tokenizer class to instantiate and convert. \n",
      "You need to have sentencepiece installed to convert a slow tokenizer to a fast one.\n",
      "ERROR:models.model_handler:Error getting answer: Couldn't instantiate the backend tokenizer from one of: \n",
      "(1) a `tokenizers` library serialization file, \n",
      "(2) a slow tokenizer instance to convert or \n",
      "(3) an equivalent slow tokenizer class to instantiate and convert. \n",
      "You need to have sentencepiece installed to convert a slow tokenizer to a fast one.\n",
      "ALBERT: 100%|██████████| 6/6 [00:03<00:00,  1.64it/s]\n"
     ]
    },
    {
     "name": "stdout",
     "output_type": "stream",
     "text": [
      "    Overall EM: 0.000, F1: 0.007\n",
      "    Avg Confidence: 0.000, Avg Time: 0.608s\n",
      "\n",
      "Evaluating mBERT (Multilingual)...\n"
     ]
    },
    {
     "name": "stderr",
     "output_type": "stream",
     "text": [
      "mBERT:   0%|          | 0/6 [00:00<?, ?it/s]INFO:models.model_handler:Loading model: bert-base-multilingual-cased\n",
      "Some weights of the model checkpoint at bert-base-multilingual-cased were not used when initializing BertForQuestionAnswering: ['cls.predictions.transform.dense.weight', 'cls.predictions.transform.LayerNorm.weight', 'cls.predictions.bias', 'cls.predictions.transform.dense.bias', 'cls.seq_relationship.bias', 'cls.predictions.transform.LayerNorm.bias', 'cls.seq_relationship.weight']\n",
      "- This IS expected if you are initializing BertForQuestionAnswering from the checkpoint of a model trained on another task or with another architecture (e.g. initializing a BertForSequenceClassification model from a BertForPreTraining model).\n",
      "- This IS NOT expected if you are initializing BertForQuestionAnswering from the checkpoint of a model that you expect to be exactly identical (initializing a BertForSequenceClassification model from a BertForSequenceClassification model).\n",
      "Some weights of BertForQuestionAnswering were not initialized from the model checkpoint at bert-base-multilingual-cased and are newly initialized: ['qa_outputs.bias', 'qa_outputs.weight']\n",
      "You should probably TRAIN this model on a down-stream task to be able to use it for predictions and inference.\n",
      "INFO:models.model_handler:Successfully loaded model: bert-base-multilingual-cased\n",
      "mBERT: 100%|██████████| 6/6 [00:03<00:00,  1.76it/s]\n"
     ]
    },
    {
     "name": "stdout",
     "output_type": "stream",
     "text": [
      "    Overall EM: 0.000, F1: 0.095\n",
      "    Avg Confidence: 0.001, Avg Time: 0.567s\n",
      "\n",
      "Evaluating XLM-RoBERTa (Multilingual)...\n"
     ]
    },
    {
     "name": "stderr",
     "output_type": "stream",
     "text": [
      "XLM-RoBERTa:   0%|          | 0/6 [00:00<?, ?it/s]INFO:models.model_handler:Loading model: deepset/xlm-roberta-base-squad2\n",
      "ERROR:models.model_handler:Error loading model deepset/xlm-roberta-base-squad2: Couldn't instantiate the backend tokenizer from one of: \n",
      "(1) a `tokenizers` library serialization file, \n",
      "(2) a slow tokenizer instance to convert or \n",
      "(3) an equivalent slow tokenizer class to instantiate and convert. \n",
      "You need to have sentencepiece installed to convert a slow tokenizer to a fast one.\n",
      "ERROR:models.model_handler:Error getting answer: Couldn't instantiate the backend tokenizer from one of: \n",
      "(1) a `tokenizers` library serialization file, \n",
      "(2) a slow tokenizer instance to convert or \n",
      "(3) an equivalent slow tokenizer class to instantiate and convert. \n",
      "You need to have sentencepiece installed to convert a slow tokenizer to a fast one.\n",
      "XLM-RoBERTa:  17%|█▋        | 1/6 [00:00<00:02,  2.18it/s]INFO:models.model_handler:Loading model: deepset/xlm-roberta-base-squad2\n",
      "ERROR:models.model_handler:Error loading model deepset/xlm-roberta-base-squad2: Couldn't instantiate the backend tokenizer from one of: \n",
      "(1) a `tokenizers` library serialization file, \n",
      "(2) a slow tokenizer instance to convert or \n",
      "(3) an equivalent slow tokenizer class to instantiate and convert. \n",
      "You need to have sentencepiece installed to convert a slow tokenizer to a fast one.\n",
      "ERROR:models.model_handler:Error getting answer: Couldn't instantiate the backend tokenizer from one of: \n",
      "(1) a `tokenizers` library serialization file, \n",
      "(2) a slow tokenizer instance to convert or \n",
      "(3) an equivalent slow tokenizer class to instantiate and convert. \n",
      "You need to have sentencepiece installed to convert a slow tokenizer to a fast one.\n",
      "XLM-RoBERTa:  33%|███▎      | 2/6 [00:01<00:02,  1.53it/s]INFO:models.model_handler:Loading model: deepset/xlm-roberta-base-squad2\n",
      "ERROR:models.model_handler:Error loading model deepset/xlm-roberta-base-squad2: Couldn't instantiate the backend tokenizer from one of: \n",
      "(1) a `tokenizers` library serialization file, \n",
      "(2) a slow tokenizer instance to convert or \n",
      "(3) an equivalent slow tokenizer class to instantiate and convert. \n",
      "You need to have sentencepiece installed to convert a slow tokenizer to a fast one.\n",
      "ERROR:models.model_handler:Error getting answer: Couldn't instantiate the backend tokenizer from one of: \n",
      "(1) a `tokenizers` library serialization file, \n",
      "(2) a slow tokenizer instance to convert or \n",
      "(3) an equivalent slow tokenizer class to instantiate and convert. \n",
      "You need to have sentencepiece installed to convert a slow tokenizer to a fast one.\n",
      "XLM-RoBERTa:  50%|█████     | 3/6 [00:01<00:01,  1.77it/s]INFO:models.model_handler:Loading model: deepset/xlm-roberta-base-squad2\n",
      "ERROR:models.model_handler:Error loading model deepset/xlm-roberta-base-squad2: Couldn't instantiate the backend tokenizer from one of: \n",
      "(1) a `tokenizers` library serialization file, \n",
      "(2) a slow tokenizer instance to convert or \n",
      "(3) an equivalent slow tokenizer class to instantiate and convert. \n",
      "You need to have sentencepiece installed to convert a slow tokenizer to a fast one.\n",
      "ERROR:models.model_handler:Error getting answer: Couldn't instantiate the backend tokenizer from one of: \n",
      "(1) a `tokenizers` library serialization file, \n",
      "(2) a slow tokenizer instance to convert or \n",
      "(3) an equivalent slow tokenizer class to instantiate and convert. \n",
      "You need to have sentencepiece installed to convert a slow tokenizer to a fast one.\n",
      "XLM-RoBERTa:  67%|██████▋   | 4/6 [00:02<00:01,  1.94it/s]INFO:models.model_handler:Loading model: deepset/xlm-roberta-base-squad2\n",
      "ERROR:models.model_handler:Error loading model deepset/xlm-roberta-base-squad2: Couldn't instantiate the backend tokenizer from one of: \n",
      "(1) a `tokenizers` library serialization file, \n",
      "(2) a slow tokenizer instance to convert or \n",
      "(3) an equivalent slow tokenizer class to instantiate and convert. \n",
      "You need to have sentencepiece installed to convert a slow tokenizer to a fast one.\n",
      "ERROR:models.model_handler:Error getting answer: Couldn't instantiate the backend tokenizer from one of: \n",
      "(1) a `tokenizers` library serialization file, \n",
      "(2) a slow tokenizer instance to convert or \n",
      "(3) an equivalent slow tokenizer class to instantiate and convert. \n",
      "You need to have sentencepiece installed to convert a slow tokenizer to a fast one.\n",
      "XLM-RoBERTa:  83%|████████▎ | 5/6 [00:02<00:00,  2.03it/s]INFO:models.model_handler:Loading model: deepset/xlm-roberta-base-squad2\n",
      "ERROR:models.model_handler:Error loading model deepset/xlm-roberta-base-squad2: Couldn't instantiate the backend tokenizer from one of: \n",
      "(1) a `tokenizers` library serialization file, \n",
      "(2) a slow tokenizer instance to convert or \n",
      "(3) an equivalent slow tokenizer class to instantiate and convert. \n",
      "You need to have sentencepiece installed to convert a slow tokenizer to a fast one.\n",
      "ERROR:models.model_handler:Error getting answer: Couldn't instantiate the backend tokenizer from one of: \n",
      "(1) a `tokenizers` library serialization file, \n",
      "(2) a slow tokenizer instance to convert or \n",
      "(3) an equivalent slow tokenizer class to instantiate and convert. \n",
      "You need to have sentencepiece installed to convert a slow tokenizer to a fast one.\n",
      "XLM-RoBERTa: 100%|██████████| 6/6 [00:03<00:00,  1.65it/s]\n"
     ]
    },
    {
     "name": "stdout",
     "output_type": "stream",
     "text": [
      "    Overall EM: 0.000, F1: 0.007\n",
      "    Avg Confidence: 0.000, Avg Time: 0.604s\n",
      "\n",
      "Evaluating AraBERT (Arabic)...\n"
     ]
    },
    {
     "name": "stderr",
     "output_type": "stream",
     "text": [
      "AraBERT:   0%|          | 0/6 [00:00<?, ?it/s]INFO:models.model_handler:Loading model: aubmindlab/bert-base-arabertv2-finetuned-squadv1\n",
      "ERROR:models.model_handler:Error loading model aubmindlab/bert-base-arabertv2-finetuned-squadv1: aubmindlab/bert-base-arabertv2-finetuned-squadv1 is not a local folder and is not a valid model identifier listed on 'https://huggingface.co/models'\n",
      "If this is a private repository, make sure to pass a token having permission to this repo with `use_auth_token` or log in with `huggingface-cli login` and pass `use_auth_token=True`.\n",
      "ERROR:models.model_handler:Error getting answer: aubmindlab/bert-base-arabertv2-finetuned-squadv1 is not a local folder and is not a valid model identifier listed on 'https://huggingface.co/models'\n",
      "If this is a private repository, make sure to pass a token having permission to this repo with `use_auth_token` or log in with `huggingface-cli login` and pass `use_auth_token=True`.\n",
      "AraBERT:  17%|█▋        | 1/6 [00:00<00:03,  1.47it/s]INFO:models.model_handler:Loading model: aubmindlab/bert-base-arabertv2-finetuned-squadv1\n",
      "ERROR:models.model_handler:Error loading model aubmindlab/bert-base-arabertv2-finetuned-squadv1: aubmindlab/bert-base-arabertv2-finetuned-squadv1 is not a local folder and is not a valid model identifier listed on 'https://huggingface.co/models'\n",
      "If this is a private repository, make sure to pass a token having permission to this repo with `use_auth_token` or log in with `huggingface-cli login` and pass `use_auth_token=True`.\n",
      "ERROR:models.model_handler:Error getting answer: aubmindlab/bert-base-arabertv2-finetuned-squadv1 is not a local folder and is not a valid model identifier listed on 'https://huggingface.co/models'\n",
      "If this is a private repository, make sure to pass a token having permission to this repo with `use_auth_token` or log in with `huggingface-cli login` and pass `use_auth_token=True`.\n",
      "AraBERT:  33%|███▎      | 2/6 [00:01<00:01,  2.12it/s]INFO:models.model_handler:Loading model: aubmindlab/bert-base-arabertv2-finetuned-squadv1\n",
      "ERROR:models.model_handler:Error loading model aubmindlab/bert-base-arabertv2-finetuned-squadv1: aubmindlab/bert-base-arabertv2-finetuned-squadv1 is not a local folder and is not a valid model identifier listed on 'https://huggingface.co/models'\n",
      "If this is a private repository, make sure to pass a token having permission to this repo with `use_auth_token` or log in with `huggingface-cli login` and pass `use_auth_token=True`.\n",
      "ERROR:models.model_handler:Error getting answer: aubmindlab/bert-base-arabertv2-finetuned-squadv1 is not a local folder and is not a valid model identifier listed on 'https://huggingface.co/models'\n",
      "If this is a private repository, make sure to pass a token having permission to this repo with `use_auth_token` or log in with `huggingface-cli login` and pass `use_auth_token=True`.\n",
      "AraBERT:  50%|█████     | 3/6 [00:01<00:01,  2.44it/s]INFO:models.model_handler:Loading model: aubmindlab/bert-base-arabertv2-finetuned-squadv1\n",
      "ERROR:models.model_handler:Error loading model aubmindlab/bert-base-arabertv2-finetuned-squadv1: aubmindlab/bert-base-arabertv2-finetuned-squadv1 is not a local folder and is not a valid model identifier listed on 'https://huggingface.co/models'\n",
      "If this is a private repository, make sure to pass a token having permission to this repo with `use_auth_token` or log in with `huggingface-cli login` and pass `use_auth_token=True`.\n",
      "ERROR:models.model_handler:Error getting answer: aubmindlab/bert-base-arabertv2-finetuned-squadv1 is not a local folder and is not a valid model identifier listed on 'https://huggingface.co/models'\n",
      "If this is a private repository, make sure to pass a token having permission to this repo with `use_auth_token` or log in with `huggingface-cli login` and pass `use_auth_token=True`.\n",
      "AraBERT:  67%|██████▋   | 4/6 [00:01<00:00,  2.62it/s]INFO:models.model_handler:Loading model: aubmindlab/bert-base-arabertv2-finetuned-squadv1\n",
      "ERROR:models.model_handler:Error loading model aubmindlab/bert-base-arabertv2-finetuned-squadv1: aubmindlab/bert-base-arabertv2-finetuned-squadv1 is not a local folder and is not a valid model identifier listed on 'https://huggingface.co/models'\n",
      "If this is a private repository, make sure to pass a token having permission to this repo with `use_auth_token` or log in with `huggingface-cli login` and pass `use_auth_token=True`.\n",
      "ERROR:models.model_handler:Error getting answer: aubmindlab/bert-base-arabertv2-finetuned-squadv1 is not a local folder and is not a valid model identifier listed on 'https://huggingface.co/models'\n",
      "If this is a private repository, make sure to pass a token having permission to this repo with `use_auth_token` or log in with `huggingface-cli login` and pass `use_auth_token=True`.\n",
      "AraBERT:  83%|████████▎ | 5/6 [00:02<00:00,  2.07it/s]INFO:models.model_handler:Loading model: aubmindlab/bert-base-arabertv2-finetuned-squadv1\n",
      "ERROR:models.model_handler:Error loading model aubmindlab/bert-base-arabertv2-finetuned-squadv1: aubmindlab/bert-base-arabertv2-finetuned-squadv1 is not a local folder and is not a valid model identifier listed on 'https://huggingface.co/models'\n",
      "If this is a private repository, make sure to pass a token having permission to this repo with `use_auth_token` or log in with `huggingface-cli login` and pass `use_auth_token=True`.\n",
      "ERROR:models.model_handler:Error getting answer: aubmindlab/bert-base-arabertv2-finetuned-squadv1 is not a local folder and is not a valid model identifier listed on 'https://huggingface.co/models'\n",
      "If this is a private repository, make sure to pass a token having permission to this repo with `use_auth_token` or log in with `huggingface-cli login` and pass `use_auth_token=True`.\n",
      "AraBERT: 100%|██████████| 6/6 [00:02<00:00,  2.24it/s]"
     ]
    },
    {
     "name": "stdout",
     "output_type": "stream",
     "text": [
      "    Overall EM: 0.000, F1: 0.007\n",
      "    Avg Confidence: 0.000, Avg Time: 0.446s\n",
      "\n",
      "Evaluation completed!\n"
     ]
    },
    {
     "name": "stderr",
     "output_type": "stream",
     "text": [
      "\n"
     ]
    }
   ],
   "source": [
    "# Run comprehensive evaluation\n",
    "print(\"Starting comprehensive model evaluation...\")\n",
    "print(\"=\" * 50)\n",
    "\n",
    "evaluation_results = {}\n",
    "detailed_results = []\n",
    "\n",
    "for model_name, model_config in models_config.items():\n",
    "    print(f\"\\nEvaluating {model_name} ({model_config['language']})...\")\n",
    "    \n",
    "    model_results = {\n",
    "        'model_name': model_name,\n",
    "        'model_config': model_config,\n",
    "        'english_results': {'predictions': [], 'metrics': {}},\n",
    "        'arabic_results': {'predictions': [], 'metrics': {}},\n",
    "        'overall_results': {'predictions': [], 'metrics': {}}\n",
    "    }\n",
    "    \n",
    "    # Test on all data\n",
    "    all_predictions = []\n",
    "    all_ground_truths = []\n",
    "    all_confidences = []\n",
    "    all_inference_times = []\n",
    "    \n",
    "    for example in tqdm(all_test_data, desc=f\"{model_name}\"):\n",
    "        context = example['context']\n",
    "        question = example['question']\n",
    "        ground_truth = example['answer']\n",
    "        lang = example['language']\n",
    "        \n",
    "        # Measure inference time\n",
    "        start_time = time.time()\n",
    "        \n",
    "        try:\n",
    "            result = model_handler.get_answer(context, question, model_config['model_id'])\n",
    "            prediction = result['answer']\n",
    "            confidence = result['score']\n",
    "        except Exception as e:\n",
    "            print(f\"    Error with {model_name}: {e}\")\n",
    "            prediction = \"\"\n",
    "            confidence = 0.0\n",
    "        \n",
    "        inference_time = time.time() - start_time\n",
    "        \n",
    "        # Calculate metrics\n",
    "        exact_match = evaluator.exact_match_score(prediction, ground_truth)\n",
    "        f1_score = evaluator.f1_score(prediction, ground_truth)\n",
    "        \n",
    "        # Store detailed result\n",
    "        detailed_result = {\n",
    "            'model_name': model_name,\n",
    "            'model_type': model_config['type'],\n",
    "            'model_language': model_config['language'],\n",
    "            'question_language': lang,\n",
    "            'question': question,\n",
    "            'context': context[:100] + \"...\" if len(context) > 100 else context,\n",
    "            'ground_truth': ground_truth,\n",
    "            'prediction': prediction,\n",
    "            'confidence': confidence,\n",
    "            'exact_match': exact_match,\n",
    "            'f1_score': f1_score,\n",
    "            'inference_time': inference_time\n",
    "        }\n",
    "        detailed_results.append(detailed_result)\n",
    "        \n",
    "        # Aggregate for overall metrics\n",
    "        all_predictions.append(prediction)\n",
    "        all_ground_truths.append(ground_truth)\n",
    "        all_confidences.append(confidence)\n",
    "        all_inference_times.append(inference_time)\n",
    "        \n",
    "        # Separate by language\n",
    "        if lang == 'English':\n",
    "            model_results['english_results']['predictions'].append({\n",
    "                'prediction': prediction, 'ground_truth': ground_truth,\n",
    "                'confidence': confidence, 'exact_match': exact_match,\n",
    "                'f1_score': f1_score, 'inference_time': inference_time\n",
    "            })\n",
    "        elif lang == 'Arabic':\n",
    "            model_results['arabic_results']['predictions'].append({\n",
    "                'prediction': prediction, 'ground_truth': ground_truth,\n",
    "                'confidence': confidence, 'exact_match': exact_match,\n",
    "                'f1_score': f1_score, 'inference_time': inference_time\n",
    "            })\n",
    "    \n",
    "    # Calculate overall metrics\n",
    "    overall_metrics = evaluator.evaluate_predictions(all_predictions, all_ground_truths)\n",
    "    model_results['overall_results']['metrics'] = {\n",
    "        'exact_match': overall_metrics['exact_match'],\n",
    "        'f1_score': overall_metrics['f1_score'],\n",
    "        'avg_confidence': np.mean(all_confidences),\n",
    "        'avg_inference_time': np.mean(all_inference_times),\n",
    "        'total_examples': len(all_predictions)\n",
    "    }\n",
    "    \n",
    "    # Calculate language-specific metrics\n",
    "    if model_results['english_results']['predictions']:\n",
    "        en_preds = [p['prediction'] for p in model_results['english_results']['predictions']]\n",
    "        en_gts = [p['ground_truth'] for p in model_results['english_results']['predictions']]\n",
    "        en_metrics = evaluator.evaluate_predictions(en_preds, en_gts)\n",
    "        model_results['english_results']['metrics'] = {\n",
    "            'exact_match': en_metrics['exact_match'],\n",
    "            'f1_score': en_metrics['f1_score'],\n",
    "            'avg_confidence': np.mean([p['confidence'] for p in model_results['english_results']['predictions']]),\n",
    "            'avg_inference_time': np.mean([p['inference_time'] for p in model_results['english_results']['predictions']])\n",
    "        }\n",
    "    \n",
    "    if model_results['arabic_results']['predictions']:\n",
    "        ar_preds = [p['prediction'] for p in model_results['arabic_results']['predictions']]\n",
    "        ar_gts = [p['ground_truth'] for p in model_results['arabic_results']['predictions']]\n",
    "        ar_metrics = evaluator.evaluate_predictions(ar_preds, ar_gts)\n",
    "        model_results['arabic_results']['metrics'] = {\n",
    "            'exact_match': ar_metrics['exact_match'],\n",
    "            'f1_score': ar_metrics['f1_score'],\n",
    "            'avg_confidence': np.mean([p['confidence'] for p in model_results['arabic_results']['predictions']]),\n",
    "            'avg_inference_time': np.mean([p['inference_time'] for p in model_results['arabic_results']['predictions']])\n",
    "        }\n",
    "    \n",
    "    evaluation_results[model_name] = model_results\n",
    "    \n",
    "    # Print summary\n",
    "    print(f\"    Overall EM: {overall_metrics['exact_match']:.3f}, F1: {overall_metrics['f1_score']:.3f}\")\n",
    "    print(f\"    Avg Confidence: {np.mean(all_confidences):.3f}, Avg Time: {np.mean(all_inference_times):.3f}s\")\n",
    "\n",
    "print(\"\\nEvaluation completed!\")"
   ]
  },
  {
   "cell_type": "markdown",
   "metadata": {},
   "source": [
    "## Results Analysis and Visualization"
   ]
  },
  {
   "cell_type": "code",
   "execution_count": 6,
   "metadata": {},
   "outputs": [
    {
     "name": "stdout",
     "output_type": "stream",
     "text": [
      "Comprehensive Results Summary:\n",
      "          Model         Type Language_Support Parameters  Dataset  \\\n",
      "0    BERT-Large         BERT          English       340M  Overall   \n",
      "1    BERT-Large         BERT          English       340M  English   \n",
      "2    BERT-Large         BERT          English       340M   Arabic   \n",
      "3    DistilBERT   DistilBERT          English        66M  Overall   \n",
      "4    DistilBERT   DistilBERT          English        66M  English   \n",
      "5    DistilBERT   DistilBERT          English        66M   Arabic   \n",
      "6       RoBERTa      RoBERTa          English       125M  Overall   \n",
      "7       RoBERTa      RoBERTa          English       125M  English   \n",
      "8       RoBERTa      RoBERTa          English       125M   Arabic   \n",
      "9        ALBERT       ALBERT          English        12M  Overall   \n",
      "10       ALBERT       ALBERT          English        12M  English   \n",
      "11       ALBERT       ALBERT          English        12M   Arabic   \n",
      "12        mBERT         BERT     Multilingual       179M  Overall   \n",
      "13        mBERT         BERT     Multilingual       179M  English   \n",
      "14        mBERT         BERT     Multilingual       179M   Arabic   \n",
      "15  XLM-RoBERTa  XLM-RoBERTa     Multilingual       278M  Overall   \n",
      "16  XLM-RoBERTa  XLM-RoBERTa     Multilingual       278M  English   \n",
      "17  XLM-RoBERTa  XLM-RoBERTa     Multilingual       278M   Arabic   \n",
      "18      AraBERT      AraBERT           Arabic       136M  Overall   \n",
      "19      AraBERT      AraBERT           Arabic       136M  English   \n",
      "20      AraBERT      AraBERT           Arabic       136M   Arabic   \n",
      "\n",
      "    Exact_Match  F1_Score  Avg_Confidence  Avg_Inference_Time  Total_Examples  \n",
      "0         0.500     0.621           0.425               1.103               6  \n",
      "1         1.000     1.000           0.686               1.696               3  \n",
      "2         0.000     0.242           0.164               0.509               3  \n",
      "3         0.000     0.376           0.217               0.326               6  \n",
      "4         0.000     0.669           0.415               0.572               3  \n",
      "5         0.000     0.083           0.018               0.080               3  \n",
      "6         0.333     0.704           0.226               0.486               6  \n",
      "7         0.333     0.780           0.451               0.682               3  \n",
      "8         0.333     0.629           0.001               0.290               3  \n",
      "9         0.000     0.007           0.000               0.608               6  \n",
      "10        0.000     0.013           0.000               0.461               3  \n",
      "11        0.000     0.000           0.000               0.755               3  \n",
      "12        0.000     0.095           0.001               0.567               6  \n",
      "13        0.000     0.190           0.001               1.028               3  \n",
      "14        0.000     0.000           0.001               0.106               3  \n",
      "15        0.000     0.007           0.000               0.604               6  \n",
      "16        0.000     0.013           0.000               0.568               3  \n",
      "17        0.000     0.000           0.000               0.640               3  \n",
      "18        0.000     0.007           0.000               0.446               6  \n",
      "19        0.000     0.014           0.000               0.446               3  \n",
      "20        0.000     0.000           0.000               0.446               3  \n"
     ]
    }
   ],
   "source": [
    "# Create comprehensive results DataFrame\n",
    "results_data = []\n",
    "\n",
    "for model_name, results in evaluation_results.items():\n",
    "    config = results['model_config']\n",
    "    overall = results['overall_results']['metrics']\n",
    "    \n",
    "    # Overall results\n",
    "    results_data.append({\n",
    "        'Model': model_name,\n",
    "        'Type': config['type'],\n",
    "        'Language_Support': config['language'],\n",
    "        'Parameters': config['parameters'],\n",
    "        'Dataset': 'Overall',\n",
    "        'Exact_Match': overall['exact_match'],\n",
    "        'F1_Score': overall['f1_score'],\n",
    "        'Avg_Confidence': overall['avg_confidence'],\n",
    "        'Avg_Inference_Time': overall['avg_inference_time'],\n",
    "        'Total_Examples': overall['total_examples']\n",
    "    })\n",
    "    \n",
    "    # English results\n",
    "    if results['english_results']['metrics']:\n",
    "        en_metrics = results['english_results']['metrics']\n",
    "        results_data.append({\n",
    "            'Model': model_name,\n",
    "            'Type': config['type'],\n",
    "            'Language_Support': config['language'],\n",
    "            'Parameters': config['parameters'],\n",
    "            'Dataset': 'English',\n",
    "            'Exact_Match': en_metrics['exact_match'],\n",
    "            'F1_Score': en_metrics['f1_score'],\n",
    "            'Avg_Confidence': en_metrics['avg_confidence'],\n",
    "            'Avg_Inference_Time': en_metrics['avg_inference_time'],\n",
    "            'Total_Examples': len(results['english_results']['predictions'])\n",
    "        })\n",
    "    \n",
    "    # Arabic results\n",
    "    if results['arabic_results']['metrics']:\n",
    "        ar_metrics = results['arabic_results']['metrics']\n",
    "        results_data.append({\n",
    "            'Model': model_name,\n",
    "            'Type': config['type'],\n",
    "            'Language_Support': config['language'],\n",
    "            'Parameters': config['parameters'],\n",
    "            'Dataset': 'Arabic',\n",
    "            'Exact_Match': ar_metrics['exact_match'],\n",
    "            'F1_Score': ar_metrics['f1_score'],\n",
    "            'Avg_Confidence': ar_metrics['avg_confidence'],\n",
    "            'Avg_Inference_Time': ar_metrics['avg_inference_time'],\n",
    "            'Total_Examples': len(results['arabic_results']['predictions'])\n",
    "        })\n",
    "\n",
    "results_df = pd.DataFrame(results_data)\n",
    "print(\"Comprehensive Results Summary:\")\n",
    "print(results_df.round(3))"
   ]
  },
  {
   "cell_type": "code",
   "execution_count": 7,
   "metadata": {},
   "outputs": [
    {
     "data": {
      "application/vnd.plotly.v1+json": {
       "config": {
        "plotlyServerURL": "https://plot.ly"
       },
       "data": [
        {
         "marker": {
          "color": "lightblue"
         },
         "name": "English",
         "showlegend": true,
         "type": "bar",
         "x": [
          "BERT-Large",
          "DistilBERT",
          "RoBERTa",
          "ALBERT",
          "mBERT",
          "XLM-RoBERTa",
          "AraBERT"
         ],
         "xaxis": "x",
         "y": {
          "bdata": "AAAAAAAA8D8AAAAAAAAAAFVVVVVVVdU/AAAAAAAAAAAAAAAAAAAAAAAAAAAAAAAAAAAAAAAAAAA=",
          "dtype": "f8"
         },
         "yaxis": "y"
        },
        {
         "marker": {
          "color": "lightcoral"
         },
         "name": "Arabic",
         "showlegend": true,
         "type": "bar",
         "x": [
          "BERT-Large",
          "DistilBERT",
          "RoBERTa",
          "ALBERT",
          "mBERT",
          "XLM-RoBERTa",
          "AraBERT"
         ],
         "xaxis": "x",
         "y": {
          "bdata": "AAAAAAAAAAAAAAAAAAAAAFVVVVVVVdU/AAAAAAAAAAAAAAAAAAAAAAAAAAAAAAAAAAAAAAAAAAA=",
          "dtype": "f8"
         },
         "yaxis": "y"
        },
        {
         "marker": {
          "color": "lightgreen"
         },
         "name": "English F1",
         "showlegend": false,
         "type": "bar",
         "x": [
          "BERT-Large",
          "DistilBERT",
          "RoBERTa",
          "ALBERT",
          "mBERT",
          "XLM-RoBERTa",
          "AraBERT"
         ],
         "xaxis": "x2",
         "y": {
          "bdata": "AAAAAAAA8D+VVmmVVmnlP3mP93iP9+g/TxvotIFOiz8ZhmEYhmHIP08b6LSBTos/+AaUiSvdiz8=",
          "dtype": "f8"
         },
         "yaxis": "y2"
        },
        {
         "marker": {
          "color": "lightyellow"
         },
         "name": "Arabic F1",
         "showlegend": false,
         "type": "bar",
         "x": [
          "BERT-Large",
          "DistilBERT",
          "RoBERTa",
          "ALBERT",
          "mBERT",
          "XLM-RoBERTa",
          "AraBERT"
         ],
         "xaxis": "x2",
         "y": {
          "bdata": "Bx988MEHzz9VVVVVVVW1P9RBHdRBHeQ/AAAAAAAAAAAAAAAAAAAAAAAAAAAAAAAAAAAAAAAAAAA=",
          "dtype": "f8"
         },
         "yaxis": "y2"
        },
        {
         "marker": {
          "color": "purple",
          "size": 10
         },
         "mode": "markers+text",
         "name": "Models",
         "showlegend": false,
         "text": [
          "BERT-Large",
          "DistilBERT",
          "RoBERTa",
          "ALBERT",
          "mBERT",
          "XLM-RoBERTa",
          "AraBERT"
         ],
         "textposition": "top center",
         "type": "scatter",
         "x": {
          "bdata": "q6qqTo0u2z+rqkr0yLfLPwAAWADu58w/AAAAAAAAAAAAAABoObVIPwAAAAAAAAAAAAAAAAAAAAA=",
          "dtype": "f8"
         },
         "xaxis": "x3",
         "y": {
          "bdata": "4YMPPvjg4z9AARRAARTYP6doiqZoiuY/TxvotIFOez8ZhmEYhmG4P08b6LSBTns/+AaUiSvdez8=",
          "dtype": "f8"
         },
         "yaxis": "y3"
        },
        {
         "marker": {
          "color": "orange"
         },
         "name": "Inference Time",
         "showlegend": false,
         "type": "bar",
         "x": [
          "BERT-Large",
          "DistilBERT",
          "RoBERTa",
          "ALBERT",
          "mBERT",
          "XLM-RoBERTa",
          "AraBERT"
         ],
         "xaxis": "x4",
         "y": {
          "bdata": "q6qqSvmj8T8AAACAEtzUP1VVVVU8Gd8/q6qqqsBz4z8AAABA9yXiP6uqqmrSUeM/AAAAgCqL3D8=",
          "dtype": "f8"
         },
         "yaxis": "y4"
        }
       ],
       "layout": {
        "annotations": [
         {
          "font": {
           "size": 16
          },
          "showarrow": false,
          "text": "Exact Match by Language",
          "x": 0.225,
          "xanchor": "center",
          "xref": "paper",
          "y": 1,
          "yanchor": "bottom",
          "yref": "paper"
         },
         {
          "font": {
           "size": 16
          },
          "showarrow": false,
          "text": "F1 Score by Language",
          "x": 0.775,
          "xanchor": "center",
          "xref": "paper",
          "y": 1,
          "yanchor": "bottom",
          "yref": "paper"
         },
         {
          "font": {
           "size": 16
          },
          "showarrow": false,
          "text": "Confidence vs Performance",
          "x": 0.225,
          "xanchor": "center",
          "xref": "paper",
          "y": 0.375,
          "yanchor": "bottom",
          "yref": "paper"
         },
         {
          "font": {
           "size": 16
          },
          "showarrow": false,
          "text": "Inference Time Comparison",
          "x": 0.775,
          "xanchor": "center",
          "xref": "paper",
          "y": 0.375,
          "yanchor": "bottom",
          "yref": "paper"
         }
        ],
        "height": 800,
        "template": {
         "data": {
          "bar": [
           {
            "error_x": {
             "color": "#2a3f5f"
            },
            "error_y": {
             "color": "#2a3f5f"
            },
            "marker": {
             "line": {
              "color": "#E5ECF6",
              "width": 0.5
             },
             "pattern": {
              "fillmode": "overlay",
              "size": 10,
              "solidity": 0.2
             }
            },
            "type": "bar"
           }
          ],
          "barpolar": [
           {
            "marker": {
             "line": {
              "color": "#E5ECF6",
              "width": 0.5
             },
             "pattern": {
              "fillmode": "overlay",
              "size": 10,
              "solidity": 0.2
             }
            },
            "type": "barpolar"
           }
          ],
          "carpet": [
           {
            "aaxis": {
             "endlinecolor": "#2a3f5f",
             "gridcolor": "white",
             "linecolor": "white",
             "minorgridcolor": "white",
             "startlinecolor": "#2a3f5f"
            },
            "baxis": {
             "endlinecolor": "#2a3f5f",
             "gridcolor": "white",
             "linecolor": "white",
             "minorgridcolor": "white",
             "startlinecolor": "#2a3f5f"
            },
            "type": "carpet"
           }
          ],
          "choropleth": [
           {
            "colorbar": {
             "outlinewidth": 0,
             "ticks": ""
            },
            "type": "choropleth"
           }
          ],
          "contour": [
           {
            "colorbar": {
             "outlinewidth": 0,
             "ticks": ""
            },
            "colorscale": [
             [
              0,
              "#0d0887"
             ],
             [
              0.1111111111111111,
              "#46039f"
             ],
             [
              0.2222222222222222,
              "#7201a8"
             ],
             [
              0.3333333333333333,
              "#9c179e"
             ],
             [
              0.4444444444444444,
              "#bd3786"
             ],
             [
              0.5555555555555556,
              "#d8576b"
             ],
             [
              0.6666666666666666,
              "#ed7953"
             ],
             [
              0.7777777777777778,
              "#fb9f3a"
             ],
             [
              0.8888888888888888,
              "#fdca26"
             ],
             [
              1,
              "#f0f921"
             ]
            ],
            "type": "contour"
           }
          ],
          "contourcarpet": [
           {
            "colorbar": {
             "outlinewidth": 0,
             "ticks": ""
            },
            "type": "contourcarpet"
           }
          ],
          "heatmap": [
           {
            "colorbar": {
             "outlinewidth": 0,
             "ticks": ""
            },
            "colorscale": [
             [
              0,
              "#0d0887"
             ],
             [
              0.1111111111111111,
              "#46039f"
             ],
             [
              0.2222222222222222,
              "#7201a8"
             ],
             [
              0.3333333333333333,
              "#9c179e"
             ],
             [
              0.4444444444444444,
              "#bd3786"
             ],
             [
              0.5555555555555556,
              "#d8576b"
             ],
             [
              0.6666666666666666,
              "#ed7953"
             ],
             [
              0.7777777777777778,
              "#fb9f3a"
             ],
             [
              0.8888888888888888,
              "#fdca26"
             ],
             [
              1,
              "#f0f921"
             ]
            ],
            "type": "heatmap"
           }
          ],
          "histogram": [
           {
            "marker": {
             "pattern": {
              "fillmode": "overlay",
              "size": 10,
              "solidity": 0.2
             }
            },
            "type": "histogram"
           }
          ],
          "histogram2d": [
           {
            "colorbar": {
             "outlinewidth": 0,
             "ticks": ""
            },
            "colorscale": [
             [
              0,
              "#0d0887"
             ],
             [
              0.1111111111111111,
              "#46039f"
             ],
             [
              0.2222222222222222,
              "#7201a8"
             ],
             [
              0.3333333333333333,
              "#9c179e"
             ],
             [
              0.4444444444444444,
              "#bd3786"
             ],
             [
              0.5555555555555556,
              "#d8576b"
             ],
             [
              0.6666666666666666,
              "#ed7953"
             ],
             [
              0.7777777777777778,
              "#fb9f3a"
             ],
             [
              0.8888888888888888,
              "#fdca26"
             ],
             [
              1,
              "#f0f921"
             ]
            ],
            "type": "histogram2d"
           }
          ],
          "histogram2dcontour": [
           {
            "colorbar": {
             "outlinewidth": 0,
             "ticks": ""
            },
            "colorscale": [
             [
              0,
              "#0d0887"
             ],
             [
              0.1111111111111111,
              "#46039f"
             ],
             [
              0.2222222222222222,
              "#7201a8"
             ],
             [
              0.3333333333333333,
              "#9c179e"
             ],
             [
              0.4444444444444444,
              "#bd3786"
             ],
             [
              0.5555555555555556,
              "#d8576b"
             ],
             [
              0.6666666666666666,
              "#ed7953"
             ],
             [
              0.7777777777777778,
              "#fb9f3a"
             ],
             [
              0.8888888888888888,
              "#fdca26"
             ],
             [
              1,
              "#f0f921"
             ]
            ],
            "type": "histogram2dcontour"
           }
          ],
          "mesh3d": [
           {
            "colorbar": {
             "outlinewidth": 0,
             "ticks": ""
            },
            "type": "mesh3d"
           }
          ],
          "parcoords": [
           {
            "line": {
             "colorbar": {
              "outlinewidth": 0,
              "ticks": ""
             }
            },
            "type": "parcoords"
           }
          ],
          "pie": [
           {
            "automargin": true,
            "type": "pie"
           }
          ],
          "scatter": [
           {
            "fillpattern": {
             "fillmode": "overlay",
             "size": 10,
             "solidity": 0.2
            },
            "type": "scatter"
           }
          ],
          "scatter3d": [
           {
            "line": {
             "colorbar": {
              "outlinewidth": 0,
              "ticks": ""
             }
            },
            "marker": {
             "colorbar": {
              "outlinewidth": 0,
              "ticks": ""
             }
            },
            "type": "scatter3d"
           }
          ],
          "scattercarpet": [
           {
            "marker": {
             "colorbar": {
              "outlinewidth": 0,
              "ticks": ""
             }
            },
            "type": "scattercarpet"
           }
          ],
          "scattergeo": [
           {
            "marker": {
             "colorbar": {
              "outlinewidth": 0,
              "ticks": ""
             }
            },
            "type": "scattergeo"
           }
          ],
          "scattergl": [
           {
            "marker": {
             "colorbar": {
              "outlinewidth": 0,
              "ticks": ""
             }
            },
            "type": "scattergl"
           }
          ],
          "scattermap": [
           {
            "marker": {
             "colorbar": {
              "outlinewidth": 0,
              "ticks": ""
             }
            },
            "type": "scattermap"
           }
          ],
          "scattermapbox": [
           {
            "marker": {
             "colorbar": {
              "outlinewidth": 0,
              "ticks": ""
             }
            },
            "type": "scattermapbox"
           }
          ],
          "scatterpolar": [
           {
            "marker": {
             "colorbar": {
              "outlinewidth": 0,
              "ticks": ""
             }
            },
            "type": "scatterpolar"
           }
          ],
          "scatterpolargl": [
           {
            "marker": {
             "colorbar": {
              "outlinewidth": 0,
              "ticks": ""
             }
            },
            "type": "scatterpolargl"
           }
          ],
          "scatterternary": [
           {
            "marker": {
             "colorbar": {
              "outlinewidth": 0,
              "ticks": ""
             }
            },
            "type": "scatterternary"
           }
          ],
          "surface": [
           {
            "colorbar": {
             "outlinewidth": 0,
             "ticks": ""
            },
            "colorscale": [
             [
              0,
              "#0d0887"
             ],
             [
              0.1111111111111111,
              "#46039f"
             ],
             [
              0.2222222222222222,
              "#7201a8"
             ],
             [
              0.3333333333333333,
              "#9c179e"
             ],
             [
              0.4444444444444444,
              "#bd3786"
             ],
             [
              0.5555555555555556,
              "#d8576b"
             ],
             [
              0.6666666666666666,
              "#ed7953"
             ],
             [
              0.7777777777777778,
              "#fb9f3a"
             ],
             [
              0.8888888888888888,
              "#fdca26"
             ],
             [
              1,
              "#f0f921"
             ]
            ],
            "type": "surface"
           }
          ],
          "table": [
           {
            "cells": {
             "fill": {
              "color": "#EBF0F8"
             },
             "line": {
              "color": "white"
             }
            },
            "header": {
             "fill": {
              "color": "#C8D4E3"
             },
             "line": {
              "color": "white"
             }
            },
            "type": "table"
           }
          ]
         },
         "layout": {
          "annotationdefaults": {
           "arrowcolor": "#2a3f5f",
           "arrowhead": 0,
           "arrowwidth": 1
          },
          "autotypenumbers": "strict",
          "coloraxis": {
           "colorbar": {
            "outlinewidth": 0,
            "ticks": ""
           }
          },
          "colorscale": {
           "diverging": [
            [
             0,
             "#8e0152"
            ],
            [
             0.1,
             "#c51b7d"
            ],
            [
             0.2,
             "#de77ae"
            ],
            [
             0.3,
             "#f1b6da"
            ],
            [
             0.4,
             "#fde0ef"
            ],
            [
             0.5,
             "#f7f7f7"
            ],
            [
             0.6,
             "#e6f5d0"
            ],
            [
             0.7,
             "#b8e186"
            ],
            [
             0.8,
             "#7fbc41"
            ],
            [
             0.9,
             "#4d9221"
            ],
            [
             1,
             "#276419"
            ]
           ],
           "sequential": [
            [
             0,
             "#0d0887"
            ],
            [
             0.1111111111111111,
             "#46039f"
            ],
            [
             0.2222222222222222,
             "#7201a8"
            ],
            [
             0.3333333333333333,
             "#9c179e"
            ],
            [
             0.4444444444444444,
             "#bd3786"
            ],
            [
             0.5555555555555556,
             "#d8576b"
            ],
            [
             0.6666666666666666,
             "#ed7953"
            ],
            [
             0.7777777777777778,
             "#fb9f3a"
            ],
            [
             0.8888888888888888,
             "#fdca26"
            ],
            [
             1,
             "#f0f921"
            ]
           ],
           "sequentialminus": [
            [
             0,
             "#0d0887"
            ],
            [
             0.1111111111111111,
             "#46039f"
            ],
            [
             0.2222222222222222,
             "#7201a8"
            ],
            [
             0.3333333333333333,
             "#9c179e"
            ],
            [
             0.4444444444444444,
             "#bd3786"
            ],
            [
             0.5555555555555556,
             "#d8576b"
            ],
            [
             0.6666666666666666,
             "#ed7953"
            ],
            [
             0.7777777777777778,
             "#fb9f3a"
            ],
            [
             0.8888888888888888,
             "#fdca26"
            ],
            [
             1,
             "#f0f921"
            ]
           ]
          },
          "colorway": [
           "#636efa",
           "#EF553B",
           "#00cc96",
           "#ab63fa",
           "#FFA15A",
           "#19d3f3",
           "#FF6692",
           "#B6E880",
           "#FF97FF",
           "#FECB52"
          ],
          "font": {
           "color": "#2a3f5f"
          },
          "geo": {
           "bgcolor": "white",
           "lakecolor": "white",
           "landcolor": "#E5ECF6",
           "showlakes": true,
           "showland": true,
           "subunitcolor": "white"
          },
          "hoverlabel": {
           "align": "left"
          },
          "hovermode": "closest",
          "mapbox": {
           "style": "light"
          },
          "paper_bgcolor": "white",
          "plot_bgcolor": "#E5ECF6",
          "polar": {
           "angularaxis": {
            "gridcolor": "white",
            "linecolor": "white",
            "ticks": ""
           },
           "bgcolor": "#E5ECF6",
           "radialaxis": {
            "gridcolor": "white",
            "linecolor": "white",
            "ticks": ""
           }
          },
          "scene": {
           "xaxis": {
            "backgroundcolor": "#E5ECF6",
            "gridcolor": "white",
            "gridwidth": 2,
            "linecolor": "white",
            "showbackground": true,
            "ticks": "",
            "zerolinecolor": "white"
           },
           "yaxis": {
            "backgroundcolor": "#E5ECF6",
            "gridcolor": "white",
            "gridwidth": 2,
            "linecolor": "white",
            "showbackground": true,
            "ticks": "",
            "zerolinecolor": "white"
           },
           "zaxis": {
            "backgroundcolor": "#E5ECF6",
            "gridcolor": "white",
            "gridwidth": 2,
            "linecolor": "white",
            "showbackground": true,
            "ticks": "",
            "zerolinecolor": "white"
           }
          },
          "shapedefaults": {
           "line": {
            "color": "#2a3f5f"
           }
          },
          "ternary": {
           "aaxis": {
            "gridcolor": "white",
            "linecolor": "white",
            "ticks": ""
           },
           "baxis": {
            "gridcolor": "white",
            "linecolor": "white",
            "ticks": ""
           },
           "bgcolor": "#E5ECF6",
           "caxis": {
            "gridcolor": "white",
            "linecolor": "white",
            "ticks": ""
           }
          },
          "title": {
           "x": 0.05
          },
          "xaxis": {
           "automargin": true,
           "gridcolor": "white",
           "linecolor": "white",
           "ticks": "",
           "title": {
            "standoff": 15
           },
           "zerolinecolor": "white",
           "zerolinewidth": 2
          },
          "yaxis": {
           "automargin": true,
           "gridcolor": "white",
           "linecolor": "white",
           "ticks": "",
           "title": {
            "standoff": 15
           },
           "zerolinecolor": "white",
           "zerolinewidth": 2
          }
         }
        },
        "title": {
         "text": "Comprehensive Multilingual QA Model Comparison",
         "x": 0.5
        },
        "xaxis": {
         "anchor": "y",
         "domain": [
          0,
          0.45
         ],
         "tickangle": 45
        },
        "xaxis2": {
         "anchor": "y2",
         "domain": [
          0.55,
          1
         ],
         "tickangle": 45
        },
        "xaxis3": {
         "anchor": "y3",
         "domain": [
          0,
          0.45
         ],
         "tickangle": 45
        },
        "xaxis4": {
         "anchor": "y4",
         "domain": [
          0.55,
          1
         ],
         "tickangle": 45
        },
        "yaxis": {
         "anchor": "x",
         "domain": [
          0.625,
          1
         ]
        },
        "yaxis2": {
         "anchor": "x2",
         "domain": [
          0.625,
          1
         ]
        },
        "yaxis3": {
         "anchor": "x3",
         "domain": [
          0,
          0.375
         ]
        },
        "yaxis4": {
         "anchor": "x4",
         "domain": [
          0,
          0.375
         ]
        }
       }
      }
     },
     "metadata": {},
     "output_type": "display_data"
    }
   ],
   "source": [
    "# Create interactive visualizations with Plotly\n",
    "fig = make_subplots(\n",
    "    rows=2, cols=2,\n",
    "    subplot_titles=['Exact Match by Language', 'F1 Score by Language', \n",
    "                   'Confidence vs Performance', 'Inference Time Comparison'],\n",
    "    specs=[[{\"secondary_y\": False}, {\"secondary_y\": False}],\n",
    "           [{\"secondary_y\": False}, {\"secondary_y\": False}]]\n",
    ")\n",
    "\n",
    "# Filter for overall results\n",
    "overall_df = results_df[results_df['Dataset'] == 'Overall']\n",
    "english_df = results_df[results_df['Dataset'] == 'English']\n",
    "arabic_df = results_df[results_df['Dataset'] == 'Arabic']\n",
    "\n",
    "# 1. Exact Match by Language\n",
    "if not english_df.empty:\n",
    "    fig.add_trace(\n",
    "        go.Bar(name='English', x=english_df['Model'], y=english_df['Exact_Match'],\n",
    "               marker_color='lightblue', showlegend=True),\n",
    "        row=1, col=1\n",
    "    )\n",
    "\n",
    "if not arabic_df.empty:\n",
    "    fig.add_trace(\n",
    "        go.Bar(name='Arabic', x=arabic_df['Model'], y=arabic_df['Exact_Match'],\n",
    "               marker_color='lightcoral', showlegend=True),\n",
    "        row=1, col=1\n",
    "    )\n",
    "\n",
    "# 2. F1 Score by Language\n",
    "if not english_df.empty:\n",
    "    fig.add_trace(\n",
    "        go.Bar(name='English F1', x=english_df['Model'], y=english_df['F1_Score'],\n",
    "               marker_color='lightgreen', showlegend=False),\n",
    "        row=1, col=2\n",
    "    )\n",
    "\n",
    "if not arabic_df.empty:\n",
    "    fig.add_trace(\n",
    "        go.Bar(name='Arabic F1', x=arabic_df['Model'], y=arabic_df['F1_Score'],\n",
    "               marker_color='lightyellow', showlegend=False),\n",
    "        row=1, col=2\n",
    "    )\n",
    "\n",
    "# 3. Confidence vs Performance Scatter\n",
    "fig.add_trace(\n",
    "    go.Scatter(x=overall_df['Avg_Confidence'], y=overall_df['F1_Score'],\n",
    "               mode='markers+text', text=overall_df['Model'],\n",
    "               textposition='top center', marker=dict(size=10, color='purple'),\n",
    "               name='Models', showlegend=False),\n",
    "    row=2, col=1\n",
    ")\n",
    "\n",
    "# 4. Inference Time Comparison\n",
    "fig.add_trace(\n",
    "    go.Bar(x=overall_df['Model'], y=overall_df['Avg_Inference_Time'],\n",
    "           marker_color='orange', name='Inference Time', showlegend=False),\n",
    "    row=2, col=2\n",
    ")\n",
    "\n",
    "# Update layout\n",
    "fig.update_layout(\n",
    "    height=800,\n",
    "    title_text=\"Comprehensive Multilingual QA Model Comparison\",\n",
    "    title_x=0.5\n",
    ")\n",
    "\n",
    "# Update x-axis labels\n",
    "for i in range(1, 3):\n",
    "    for j in range(1, 3):\n",
    "        fig.update_xaxes(tickangle=45, row=i, col=j)\n",
    "\n",
    "fig.show()"
   ]
  },
  {
   "cell_type": "markdown",
   "metadata": {},
   "source": [
    "## Language-Specific Performance Analysis"
   ]
  },
  {
   "cell_type": "code",
   "execution_count": 8,
   "metadata": {},
   "outputs": [
    {
     "name": "stdout",
     "output_type": "stream",
     "text": [
      "Language-Specific Performance Analysis\n",
      "==================================================\n",
      "\n",
      "Language Performance Matrix:\n",
      "            model_language_support  english_em  english_f1  arabic_em  \\\n",
      "BERT-Large                 English       1.000       1.000      0.000   \n",
      "DistilBERT                 English       0.000       0.669      0.000   \n",
      "RoBERTa                    English       0.333       0.780      0.333   \n",
      "ALBERT                     English       0.000       0.013      0.000   \n",
      "mBERT                 Multilingual       0.000       0.190      0.000   \n",
      "XLM-RoBERTa           Multilingual       0.000       0.013      0.000   \n",
      "AraBERT                     Arabic       0.000       0.014      0.000   \n",
      "\n",
      "             arabic_f1  cross_lingual_gap  \n",
      "BERT-Large       0.242              0.758  \n",
      "DistilBERT       0.083              0.586  \n",
      "RoBERTa          0.629              0.152  \n",
      "ALBERT           0.000              0.000  \n",
      "mBERT            0.000              0.000  \n",
      "XLM-RoBERTa      0.000              0.000  \n",
      "AraBERT          0.000              0.000  \n",
      "\n",
      "Best Models by Language:\n",
      "English (F1): BERT-Large (1.000)\n",
      "Arabic (F1):  RoBERTa (0.629)\n",
      "Best Multilingual: ALBERT (Gap: 0.000)\n"
     ]
    }
   ],
   "source": [
    "# Analyze language-specific performance patterns\n",
    "print(\"Language-Specific Performance Analysis\")\n",
    "print(\"=\" * 50)\n",
    "\n",
    "# Create language performance matrix\n",
    "language_performance = {}\n",
    "\n",
    "for model_name, results in evaluation_results.items():\n",
    "    model_config = results['model_config']\n",
    "    model_lang_support = model_config['language']\n",
    "    \n",
    "    performance_data = {\n",
    "        'model_language_support': model_lang_support,\n",
    "        'english_em': 0.0,\n",
    "        'english_f1': 0.0,\n",
    "        'arabic_em': 0.0,\n",
    "        'arabic_f1': 0.0,\n",
    "        'cross_lingual_gap': 0.0\n",
    "    }\n",
    "    \n",
    "    # English performance\n",
    "    if results['english_results']['metrics']:\n",
    "        en_metrics = results['english_results']['metrics']\n",
    "        performance_data['english_em'] = en_metrics['exact_match']\n",
    "        performance_data['english_f1'] = en_metrics['f1_score']\n",
    "    \n",
    "    # Arabic performance\n",
    "    if results['arabic_results']['metrics']:\n",
    "        ar_metrics = results['arabic_results']['metrics']\n",
    "        performance_data['arabic_em'] = ar_metrics['exact_match']\n",
    "        performance_data['arabic_f1'] = ar_metrics['f1_score']\n",
    "    \n",
    "    # Calculate cross-lingual performance gap\n",
    "    if performance_data['english_f1'] > 0 and performance_data['arabic_f1'] > 0:\n",
    "        performance_data['cross_lingual_gap'] = abs(performance_data['english_f1'] - performance_data['arabic_f1'])\n",
    "    \n",
    "    language_performance[model_name] = performance_data\n",
    "\n",
    "# Display language performance analysis\n",
    "lang_perf_df = pd.DataFrame.from_dict(language_performance, orient='index')\n",
    "print(\"\\nLanguage Performance Matrix:\")\n",
    "print(lang_perf_df.round(3))\n",
    "\n",
    "# Identify best models for each language\n",
    "print(\"\\nBest Models by Language:\")\n",
    "print(f\"English (F1): {lang_perf_df.loc[lang_perf_df['english_f1'].idxmax()].name} ({lang_perf_df['english_f1'].max():.3f})\")\n",
    "print(f\"Arabic (F1):  {lang_perf_df.loc[lang_perf_df['arabic_f1'].idxmax()].name} ({lang_perf_df['arabic_f1'].max():.3f})\")\n",
    "print(f\"Best Multilingual: {lang_perf_df.loc[lang_perf_df['cross_lingual_gap'].idxmin()].name} (Gap: {lang_perf_df['cross_lingual_gap'].min():.3f})\")"
   ]
  },
  {
   "cell_type": "code",
   "execution_count": 9,
   "metadata": {},
   "outputs": [
    {
     "data": {
      "image/png": "[encoded data removed]",
      "text/plain": [
       "<Figure size 1200x800 with 2 Axes>"
      ]
     },
     "metadata": {},
     "output_type": "display_data"
    },
    {
     "name": "stdout",
     "output_type": "stream",
     "text": [
      "\n",
      "Performance by Model Type:\n",
      "            Exact_Match        F1_Score        Avg_Confidence  \\\n",
      "                   mean    std     mean    std           mean   \n",
      "Type                                                            \n",
      "ALBERT            0.000    NaN    0.007    NaN          0.000   \n",
      "AraBERT           0.000    NaN    0.007    NaN          0.000   \n",
      "BERT              0.250  0.354    0.358  0.372          0.213   \n",
      "DistilBERT        0.000    NaN    0.376    NaN          0.217   \n",
      "RoBERTa           0.333    NaN    0.704    NaN          0.226   \n",
      "XLM-RoBERTa       0.000    NaN    0.007    NaN          0.000   \n",
      "\n",
      "            Avg_Inference_Time  \n",
      "                          mean  \n",
      "Type                            \n",
      "ALBERT                   0.608  \n",
      "AraBERT                  0.446  \n",
      "BERT                     0.835  \n",
      "DistilBERT               0.326  \n",
      "RoBERTa                  0.486  \n",
      "XLM-RoBERTa              0.604  \n"
     ]
    }
   ],
   "source": [
    "# Create cross-lingual performance heatmap\n",
    "plt.figure(figsize=(12, 8))\n",
    "\n",
    "# Prepare data for heatmap\n",
    "heatmap_data = lang_perf_df[['english_f1', 'arabic_f1']].T\n",
    "heatmap_data.index = ['English F1', 'Arabic F1']\n",
    "\n",
    "# Create heatmap\n",
    "sns.heatmap(heatmap_data, annot=True, cmap='YlOrRd', fmt='.3f', \n",
    "            cbar_kws={'label': 'F1 Score'})\n",
    "plt.title('Cross-Lingual Performance Heatmap')\n",
    "plt.xlabel('Models')\n",
    "plt.ylabel('Language Performance')\n",
    "plt.xticks(rotation=45)\n",
    "plt.tight_layout()\n",
    "plt.show()\n",
    "\n",
    "# Performance by model type\n",
    "print(\"\\nPerformance by Model Type:\")\n",
    "type_performance = results_df[results_df['Dataset'] == 'Overall'].groupby('Type').agg({\n",
    "    'Exact_Match': ['mean', 'std'],\n",
    "    'F1_Score': ['mean', 'std'],\n",
    "    'Avg_Confidence': 'mean',\n",
    "    'Avg_Inference_Time': 'mean'\n",
    "}).round(3)\n",
    "\n",
    "print(type_performance)"
   ]
  },
  {
   "cell_type": "markdown",
   "metadata": {},
   "source": [
    "## Efficiency and Resource Analysis"
   ]
  },
  {
   "cell_type": "code",
   "execution_count": 10,
   "metadata": {},
   "outputs": [
    {
     "name": "stdout",
     "output_type": "stream",
     "text": [
      "Model Efficiency Analysis\n",
      "========================================\n",
      "\n",
      "Efficiency Metrics:\n",
      "         Model  Parameters_M  F1_Score  Inference_Time  Efficiency_Ratio  \\\n",
      "0   BERT-Large         340.0    0.6212          1.1025            0.5634   \n",
      "1   DistilBERT          66.0    0.3762          0.3259            1.1543   \n",
      "2      RoBERTa         125.0    0.7044          0.4859            1.4496   \n",
      "3       ALBERT          12.0    0.0067          0.6079            0.0110   \n",
      "4        mBERT         179.0    0.0952          0.5671            0.1679   \n",
      "5  XLM-RoBERTa         278.0    0.0067          0.6037            0.0110   \n",
      "6      AraBERT         136.0    0.0068          0.4460            0.0153   \n",
      "\n",
      "   Parameter_Efficiency Model_Size   Model_Type  \n",
      "0                0.0018      Large         BERT  \n",
      "1                0.0057       Base   DistilBERT  \n",
      "2                0.0056       Base      RoBERTa  \n",
      "3                0.0006       Base       ALBERT  \n",
      "4                0.0005       Base         BERT  \n",
      "5                0.0000       Base  XLM-RoBERTa  \n",
      "6                0.0001       Base      AraBERT  \n",
      "\n",
      "Most Efficient Models:\n",
      "Best Performance/Time: RoBERTa\n",
      "Best Performance/Parameter: DistilBERT\n",
      "Fastest Inference: DistilBERT\n"
     ]
    }
   ],
   "source": [
    "# Analyze efficiency metrics\n",
    "print(\"Model Efficiency Analysis\")\n",
    "print(\"=\" * 40)\n",
    "\n",
    "# Create efficiency DataFrame\n",
    "efficiency_data = []\n",
    "\n",
    "for model_name, results in evaluation_results.items():\n",
    "    config = results['model_config']\n",
    "    overall = results['overall_results']['metrics']\n",
    "    \n",
    "    # Parse parameter count\n",
    "    param_str = config['parameters']\n",
    "    if 'M' in param_str:\n",
    "        param_count = float(param_str.replace('M', ''))\n",
    "    else:\n",
    "        param_count = float(param_str)\n",
    "    \n",
    "    efficiency_data.append({\n",
    "        'Model': model_name,\n",
    "        'Parameters_M': param_count,\n",
    "        'F1_Score': overall['f1_score'],\n",
    "        'Inference_Time': overall['avg_inference_time'],\n",
    "        'Efficiency_Ratio': overall['f1_score'] / overall['avg_inference_time'],  # Performance per second\n",
    "        'Parameter_Efficiency': overall['f1_score'] / param_count,  # Performance per parameter\n",
    "        'Model_Size': config['size'],\n",
    "        'Model_Type': config['type']\n",
    "    })\n",
    "\n",
    "efficiency_df = pd.DataFrame(efficiency_data)\n",
    "print(\"\\nEfficiency Metrics:\")\n",
    "print(efficiency_df.round(4))\n",
    "\n",
    "# Find most efficient models\n",
    "print(\"\\nMost Efficient Models:\")\n",
    "print(f\"Best Performance/Time: {efficiency_df.loc[efficiency_df['Efficiency_Ratio'].idxmax(), 'Model']}\")\n",
    "print(f\"Best Performance/Parameter: {efficiency_df.loc[efficiency_df['Parameter_Efficiency'].idxmax(), 'Model']}\")\n",
    "print(f\"Fastest Inference: {efficiency_df.loc[efficiency_df['Inference_Time'].idxmin(), 'Model']}\")"
   ]
  },
  {
   "cell_type": "code",
   "execution_count": 11,
   "metadata": {},
   "outputs": [
    {
     "data": {
      "image/png": "[encoded data removed]",
      "text/plain": [
       "<Figure size 1500x1200 with 5 Axes>"
      ]
     },
     "metadata": {},
     "output_type": "display_data"
    }
   ],
   "source": [
    "# Create efficiency visualization\n",
    "fig, axes = plt.subplots(2, 2, figsize=(15, 12))\n",
    "fig.suptitle('Model Efficiency Analysis', fontsize=16)\n",
    "\n",
    "# 1. Performance vs Parameters\n",
    "scatter1 = axes[0, 0].scatter(efficiency_df['Parameters_M'], efficiency_df['F1_Score'], \n",
    "                             c=efficiency_df['Inference_Time'], cmap='viridis', s=100, alpha=0.7)\n",
    "axes[0, 0].set_xlabel('Parameters (Millions)')\n",
    "axes[0, 0].set_ylabel('F1 Score')\n",
    "axes[0, 0].set_title('Performance vs Model Size')\n",
    "plt.colorbar(scatter1, ax=axes[0, 0], label='Inference Time (s)')\n",
    "\n",
    "# Add model labels\n",
    "for i, model in enumerate(efficiency_df['Model']):\n",
    "    axes[0, 0].annotate(model, (efficiency_df['Parameters_M'].iloc[i], efficiency_df['F1_Score'].iloc[i]),\n",
    "                       xytext=(5, 5), textcoords='offset points', fontsize=8)\n",
    "\n",
    "# 2. Performance vs Inference Time\n",
    "axes[0, 1].scatter(efficiency_df['Inference_Time'], efficiency_df['F1_Score'], s=100, alpha=0.7)\n",
    "axes[0, 1].set_xlabel('Inference Time (seconds)')\n",
    "axes[0, 1].set_ylabel('F1 Score')\n",
    "axes[0, 1].set_title('Performance vs Speed Trade-off')\n",
    "\n",
    "for i, model in enumerate(efficiency_df['Model']):\n",
    "    axes[0, 1].annotate(model, (efficiency_df['Inference_Time'].iloc[i], efficiency_df['F1_Score'].iloc[i]),\n",
    "                       xytext=(5, 5), textcoords='offset points', fontsize=8)\n",
    "\n",
    "# 3. Efficiency Ratio by Model Type\n",
    "efficiency_by_type = efficiency_df.groupby('Model_Type')['Efficiency_Ratio'].mean().sort_values(ascending=True)\n",
    "axes[1, 0].barh(efficiency_by_type.index, efficiency_by_type.values)\n",
    "axes[1, 0].set_xlabel('Efficiency Ratio (F1/Time)')\n",
    "axes[1, 0].set_title('Efficiency by Model Type')\n",
    "\n",
    "# 4. Parameter Efficiency\n",
    "param_eff_sorted = efficiency_df.sort_values('Parameter_Efficiency', ascending=True)\n",
    "axes[1, 1].barh(param_eff_sorted['Model'], param_eff_sorted['Parameter_Efficiency'])\n",
    "axes[1, 1].set_xlabel('Parameter Efficiency (F1/M Parameters)')\n",
    "axes[1, 1].set_title('Parameter Efficiency by Model')\n",
    "\n",
    "plt.tight_layout()\n",
    "plt.show()"
   ]
  },
  {
   "cell_type": "markdown",
   "metadata": {},
   "source": [
    "## Detailed Error Analysis"
   ]
  },
  {
   "cell_type": "code",
   "execution_count": 12,
   "metadata": {},
   "outputs": [
    {
     "name": "stdout",
     "output_type": "stream",
     "text": [
      "Detailed Error Analysis by Question and Model\n",
      "============================================================\n",
      "\n",
      "Error Rates by Language and Model:\n",
      "                              exact_match       f1_score confidence\n",
      "                                     mean count     mean       mean\n",
      "question_language model_name                                       \n",
      "Arabic            ALBERT            0.000     3    0.000      0.000\n",
      "                  AraBERT           0.000     3    0.000      0.000\n",
      "                  BERT-Large        0.000     3    0.242      0.164\n",
      "                  DistilBERT        0.000     3    0.083      0.018\n",
      "                  RoBERTa           0.333     3    0.629      0.001\n",
      "                  XLM-RoBERTa       0.000     3    0.000      0.000\n",
      "                  mBERT             0.000     3    0.000      0.001\n",
      "English           ALBERT            0.000     3    0.013      0.000\n",
      "                  AraBERT           0.000     3    0.014      0.000\n",
      "                  BERT-Large        1.000     3    1.000      0.686\n",
      "                  DistilBERT        0.000     3    0.669      0.415\n",
      "                  RoBERTa           0.333     3    0.780      0.451\n",
      "                  XLM-RoBERTa       0.000     3    0.013      0.000\n",
      "                  mBERT             0.000     3    0.190      0.001\n",
      "\n",
      "Most Challenging Questions (Lowest Average Exact Match):\n",
      "                                                                      exact_match  \\\n",
      "question                                           question_language                \n",
      "كم عدد اللاعبين في فريق كرة القدم؟                 Arabic                0.000000   \n",
      "ما هو الذكاء الاصطناعي؟                            Arabic                0.000000   \n",
      "How much area does the Amazon basin cover?         English               0.142857   \n",
      "What materials was the Great Wall of China made... English               0.142857   \n",
      "ما هي عاصمة مصر؟                                   Arabic                0.142857   \n",
      "\n",
      "                                                                      f1_score  \\\n",
      "question                                           question_language             \n",
      "كم عدد اللاعبين في فريق كرة القدم؟                 Arabic             0.085714   \n",
      "ما هو الذكاء الاصطناعي؟                            Arabic             0.180427   \n",
      "How much area does the Amazon basin cover?         English            0.306122   \n",
      "What materials was the Great Wall of China made... English            0.461529   \n",
      "ما هي عاصمة مصر؟                                   Arabic             0.142857   \n",
      "\n",
      "                                                                      confidence  \n",
      "question                                           question_language              \n",
      "كم عدد اللاعبين في فريق كرة القدم؟                 Arabic               0.022578  \n",
      "ما هو الذكاء الاصطناعي؟                            Arabic               0.013406  \n",
      "How much area does the Amazon basin cover?         English              0.133066  \n",
      "What materials was the Great Wall of China made... English              0.258088  \n",
      "ما هي عاصمة مصر؟                                   Arabic               0.042837  \n",
      "\n",
      "Easiest Questions (Highest Average Exact Match):\n",
      "                                                                      exact_match  \\\n",
      "question                                           question_language                \n",
      "ما هو الذكاء الاصطناعي؟                            Arabic                0.000000   \n",
      "How much area does the Amazon basin cover?         English               0.142857   \n",
      "What materials was the Great Wall of China made... English               0.142857   \n",
      "ما هي عاصمة مصر؟                                   Arabic                0.142857   \n",
      "What is artificial intelligence?                   English               0.285714   \n",
      "\n",
      "                                                                      f1_score  \\\n",
      "question                                           question_language             \n",
      "ما هو الذكاء الاصطناعي؟                            Arabic             0.180427   \n",
      "How much area does the Amazon basin cover?         English            0.306122   \n",
      "What materials was the Great Wall of China made... English            0.461529   \n",
      "ما هي عاصمة مصر؟                                   Arabic             0.142857   \n",
      "What is artificial intelligence?                   English            0.380952   \n",
      "\n",
      "                                                                      confidence  \n",
      "question                                           question_language              \n",
      "ما هو الذكاء الاصطناعي؟                            Arabic               0.013406  \n",
      "How much area does the Amazon basin cover?         English              0.133066  \n",
      "What materials was the Great Wall of China made... English              0.258088  \n",
      "ما هي عاصمة مصر؟                                   Arabic               0.042837  \n",
      "What is artificial intelligence?                   English              0.273892  \n"
     ]
    }
   ],
   "source": [
    "# Perform detailed error analysis\n",
    "print(\"Detailed Error Analysis by Question and Model\")\n",
    "print(\"=\" * 60)\n",
    "\n",
    "# Create detailed results DataFrame\n",
    "detailed_df = pd.DataFrame(detailed_results)\n",
    "\n",
    "# Analyze errors by question language\n",
    "error_analysis = detailed_df.groupby(['question_language', 'model_name']).agg({\n",
    "    'exact_match': ['mean', 'count'],\n",
    "    'f1_score': 'mean',\n",
    "    'confidence': 'mean'\n",
    "}).round(3)\n",
    "\n",
    "print(\"\\nError Rates by Language and Model:\")\n",
    "print(error_analysis)\n",
    "\n",
    "# Find hardest questions (lowest average performance)\n",
    "question_difficulty = detailed_df.groupby(['question', 'question_language']).agg({\n",
    "    'exact_match': 'mean',\n",
    "    'f1_score': 'mean',\n",
    "    'confidence': 'mean'\n",
    "}).sort_values('exact_match')\n",
    "\n",
    "print(\"\\nMost Challenging Questions (Lowest Average Exact Match):\")\n",
    "print(question_difficulty.head())\n",
    "\n",
    "print(\"\\nEasiest Questions (Highest Average Exact Match):\")\n",
    "print(question_difficulty.tail())"
   ]
  },
  {
   "cell_type": "code",
   "execution_count": 13,
   "metadata": {},
   "outputs": [
    {
     "name": "stdout",
     "output_type": "stream",
     "text": [
      "\n",
      "Model Agreement Analysis\n",
      "==============================\n",
      "\n",
      "Question 1 (English): How much area does the Amazon basin cover?...\n",
      "Ground Truth: 7,000,000 km2\n",
      "Model Predictions:\n",
      "  BERT-Large     : 7,000,000 km2                  (EM: ✓, F1: 1.000, Conf: 0.570)\n",
      "  DistilBERT     : 7,000,000 km2 (2,700,000 sq mi) (EM: ✗, F1: 0.571, Conf: 0.305)\n",
      "  RoBERTa        : 7,000,000 km2 (2,700,000 sq mi), (EM: ✗, F1: 0.571, Conf: 0.056)\n",
      "  ALBERT         : Error: Couldn't instantiate the backend tokenizer from one of: \n",
      "(1) a `tokenizers` library serialization file, \n",
      "(2) a slow tokenizer instance to convert or \n",
      "(3) an equivalent slow tokenizer class to instantiate and convert. \n",
      "You need to have sentencepiece installed to convert a slow tokenizer to a fast one. (EM: ✗, F1: 0.000, Conf: 0.000)\n",
      "  mBERT          : moist broadleaf tropical rainforest in the Amazon biome that covers (EM: ✗, F1: 0.000, Conf: 0.000)\n",
      "  XLM-RoBERTa    : Error: Couldn't instantiate the backend tokenizer from one of: \n",
      "(1) a `tokenizers` library serialization file, \n",
      "(2) a slow tokenizer instance to convert or \n",
      "(3) an equivalent slow tokenizer class to instantiate and convert. \n",
      "You need to have sentencepiece installed to convert a slow tokenizer to a fast one. (EM: ✗, F1: 0.000, Conf: 0.000)\n",
      "  AraBERT        : Error: aubmindlab/bert-base-arabertv2-finetuned-squadv1 is not a local folder and is not a valid model identifier listed on 'https://huggingface.co/models'\n",
      "If this is a private repository, make sure to pass a token having permission to this repo with `use_auth_token` or log in with `huggingface-cli login` and pass `use_auth_token=True`. (EM: ✗, F1: 0.000, Conf: 0.000)\n",
      "  Agreement Rate: 14.3% (1/7 models correct)\n",
      "  Correct Models: BERT-Large\n",
      "\n",
      "Question 2 (English): What is artificial intelligence?...\n",
      "Ground Truth: intelligence demonstrated by machines\n",
      "Model Predictions:\n",
      "  BERT-Large     : intelligence demonstrated by machines (EM: ✓, F1: 1.000, Conf: 0.940)\n",
      "  DistilBERT     : Artificial intelligence (AI) is intelligence demonstrated by machines (EM: ✗, F1: 0.667, Conf: 0.283)\n",
      "  RoBERTa        : intelligence demonstrated by machines (EM: ✓, F1: 1.000, Conf: 0.693)\n",
      "  ALBERT         : Error: Couldn't instantiate the backend tokenizer from one of: \n",
      "(1) a `tokenizers` library serialization file, \n",
      "(2) a slow tokenizer instance to convert or \n",
      "(3) an equivalent slow tokenizer class to instantiate and convert. \n",
      "You need to have sentencepiece installed to convert a slow tokenizer to a fast one. (EM: ✗, F1: 0.000, Conf: 0.000)\n",
      "  mBERT          : of \"intelligent agents\": any device that perceives its environment and takes actions that maximize its chance of successfully achieving its goals. (EM: ✗, F1: 0.000, Conf: 0.001)\n",
      "  XLM-RoBERTa    : Error: Couldn't instantiate the backend tokenizer from one of: \n",
      "(1) a `tokenizers` library serialization file, \n",
      "(2) a slow tokenizer instance to convert or \n",
      "(3) an equivalent slow tokenizer class to instantiate and convert. \n",
      "You need to have sentencepiece installed to convert a slow tokenizer to a fast one. (EM: ✗, F1: 0.000, Conf: 0.000)\n",
      "  AraBERT        : Error: aubmindlab/bert-base-arabertv2-finetuned-squadv1 is not a local folder and is not a valid model identifier listed on 'https://huggingface.co/models'\n",
      "If this is a private repository, make sure to pass a token having permission to this repo with `use_auth_token` or log in with `huggingface-cli login` and pass `use_auth_token=True`. (EM: ✗, F1: 0.000, Conf: 0.000)\n",
      "  Agreement Rate: 28.6% (2/7 models correct)\n",
      "  Correct Models: BERT-Large, RoBERTa\n",
      "\n",
      "Question 3 (English): What materials was the Great Wall of China made of?...\n",
      "Ground Truth: stone, brick, tamped earth, wood, and other materials\n",
      "Model Predictions:\n",
      "  BERT-Large     : stone, brick, tamped earth, wood, and other materials (EM: ✓, F1: 1.000, Conf: 0.546)\n",
      "  DistilBERT     : stone, brick, tamped earth, wood (EM: ✗, F1: 0.769, Conf: 0.657)\n",
      "  RoBERTa        : stone, brick, tamped earth, wood (EM: ✗, F1: 0.769, Conf: 0.602)\n",
      "  ALBERT         : Error: Couldn't instantiate the backend tokenizer from one of: \n",
      "(1) a `tokenizers` library serialization file, \n",
      "(2) a slow tokenizer instance to convert or \n",
      "(3) an equivalent slow tokenizer class to instantiate and convert. \n",
      "You need to have sentencepiece installed to convert a slow tokenizer to a fast one. (EM: ✗, F1: 0.040, Conf: 0.000)\n",
      "  mBERT          : of China is a series of fortifications made of stone, brick, tamped earth, wood, and other materials, generally built along an east (EM: ✗, F1: 0.571, Conf: 0.001)\n",
      "  XLM-RoBERTa    : Error: Couldn't instantiate the backend tokenizer from one of: \n",
      "(1) a `tokenizers` library serialization file, \n",
      "(2) a slow tokenizer instance to convert or \n",
      "(3) an equivalent slow tokenizer class to instantiate and convert. \n",
      "You need to have sentencepiece installed to convert a slow tokenizer to a fast one. (EM: ✗, F1: 0.040, Conf: 0.000)\n",
      "  AraBERT        : Error: aubmindlab/bert-base-arabertv2-finetuned-squadv1 is not a local folder and is not a valid model identifier listed on 'https://huggingface.co/models'\n",
      "If this is a private repository, make sure to pass a token having permission to this repo with `use_auth_token` or log in with `huggingface-cli login` and pass `use_auth_token=True`. (EM: ✗, F1: 0.041, Conf: 0.000)\n",
      "  Agreement Rate: 14.3% (1/7 models correct)\n",
      "  Correct Models: BERT-Large\n",
      "\n",
      "... (showing first 3 questions only)\n"
     ]
    }
   ],
   "source": [
    "# Model agreement analysis\n",
    "print(\"\\nModel Agreement Analysis\")\n",
    "print(\"=\" * 30)\n",
    "\n",
    "# Create pivot table for model predictions\n",
    "for i, example in enumerate(all_test_data):\n",
    "    question = example['question']\n",
    "    ground_truth = example['answer']\n",
    "    language = example['language']\n",
    "    \n",
    "    print(f\"\\nQuestion {i+1} ({language}): {question[:60]}...\")\n",
    "    print(f\"Ground Truth: {ground_truth}\")\n",
    "    \n",
    "    # Get predictions from all models for this question\n",
    "    question_results = detailed_df[detailed_df['question'] == question]\n",
    "    \n",
    "    if not question_results.empty:\n",
    "        print(\"Model Predictions:\")\n",
    "        for _, row in question_results.iterrows():\n",
    "            em_symbol = \"✓\" if row['exact_match'] == 1.0 else \"✗\"\n",
    "            print(f\"  {row['model_name']:15}: {row['prediction']:30} (EM: {em_symbol}, F1: {row['f1_score']:.3f}, Conf: {row['confidence']:.3f})\")\n",
    "        \n",
    "        # Calculate agreement\n",
    "        correct_models = question_results[question_results['exact_match'] == 1.0]['model_name'].tolist()\n",
    "        agreement_rate = len(correct_models) / len(question_results) * 100\n",
    "        print(f\"  Agreement Rate: {agreement_rate:.1f}% ({len(correct_models)}/{len(question_results)} models correct)\")\n",
    "        \n",
    "        if correct_models:\n",
    "            print(f\"  Correct Models: {', '.join(correct_models)}\")\n",
    "    \n",
    "    if i >= 2:  # Limit output for readability\n",
    "        print(\"\\n... (showing first 3 questions only)\")\n",
    "        break"
   ]
  },
  {
   "cell_type": "markdown",
   "metadata": {},
   "source": [
    "## Model Recommendations"
   ]
  },
  {
   "cell_type": "code",
   "execution_count": 14,
   "metadata": {},
   "outputs": [
    {
     "name": "stdout",
     "output_type": "stream",
     "text": [
      "Model Recommendations Based on Comprehensive Analysis\n",
      "=================================================================\n",
      "\n",
      "Best Overall Performance:\n",
      "  Model: RoBERTa\n",
      "  Reason: Highest F1 score (0.704) across all languages\n",
      "  Best Use Case: General multilingual QA applications\n",
      "\n",
      "Most Efficient:\n",
      "  Model: RoBERTa\n",
      "  Reason: Best performance/speed ratio (1.450)\n",
      "  Best Use Case: Real-time applications requiring fast inference\n",
      "\n",
      "Best for English:\n",
      "  Model: BERT-Large\n",
      "  Reason: Highest English F1 score (1.000)\n",
      "  Best Use Case: English-only QA applications\n",
      "\n",
      "Best for Arabic:\n",
      "  Model: RoBERTa\n",
      "  Reason: Highest Arabic F1 score (0.629)\n",
      "  Best Use Case: Arabic-specific QA applications\n",
      "\n",
      "Most Parameter Efficient:\n",
      "  Model: DistilBERT\n",
      "  Reason: Best performance per parameter (0.0057)\n",
      "  Best Use Case: Resource-constrained environments\n",
      "\n",
      "\n",
      "Summary Table:\n",
      "                   Category       Model  \\\n",
      "0  Best Overall Performance     RoBERTa   \n",
      "1            Most Efficient     RoBERTa   \n",
      "2          Best for English  BERT-Large   \n",
      "3           Best for Arabic     RoBERTa   \n",
      "4  Most Parameter Efficient  DistilBERT   \n",
      "\n",
      "                                          Use_Case  \n",
      "0             General multilingual QA applications  \n",
      "1  Real-time applications requiring fast inference  \n",
      "2                     English-only QA applications  \n",
      "3                  Arabic-specific QA applications  \n",
      "4                Resource-constrained environments  \n"
     ]
    }
   ],
   "source": [
    "# Generate model recommendations based on analysis\n",
    "print(\"Model Recommendations Based on Comprehensive Analysis\")\n",
    "print(\"=\" * 65)\n",
    "\n",
    "recommendations = []\n",
    "\n",
    "# Best overall model\n",
    "best_overall = overall_df.loc[overall_df['F1_Score'].idxmax()]\n",
    "recommendations.append({\n",
    "    'Category': 'Best Overall Performance',\n",
    "    'Model': best_overall['Model'],\n",
    "    'Reason': f\"Highest F1 score ({best_overall['F1_Score']:.3f}) across all languages\",\n",
    "    'Use_Case': 'General multilingual QA applications'\n",
    "})\n",
    "\n",
    "# Most efficient model\n",
    "most_efficient = efficiency_df.loc[efficiency_df['Efficiency_Ratio'].idxmax()]\n",
    "recommendations.append({\n",
    "    'Category': 'Most Efficient',\n",
    "    'Model': most_efficient['Model'],\n",
    "    'Reason': f\"Best performance/speed ratio ({most_efficient['Efficiency_Ratio']:.3f})\",\n",
    "    'Use_Case': 'Real-time applications requiring fast inference'\n",
    "})\n",
    "\n",
    "# Best for English\n",
    "if not english_df.empty:\n",
    "    best_english = english_df.loc[english_df['F1_Score'].idxmax()]\n",
    "    recommendations.append({\n",
    "        'Category': 'Best for English',\n",
    "        'Model': best_english['Model'],\n",
    "        'Reason': f\"Highest English F1 score ({best_english['F1_Score']:.3f})\",\n",
    "        'Use_Case': 'English-only QA applications'\n",
    "    })\n",
    "\n",
    "# Best for Arabic\n",
    "if not arabic_df.empty:\n",
    "    best_arabic = arabic_df.loc[arabic_df['F1_Score'].idxmax()]\n",
    "    recommendations.append({\n",
    "        'Category': 'Best for Arabic',\n",
    "        'Model': best_arabic['Model'],\n",
    "        'Reason': f\"Highest Arabic F1 score ({best_arabic['F1_Score']:.3f})\",\n",
    "        'Use_Case': 'Arabic-specific QA applications'\n",
    "    })\n",
    "\n",
    "# Most parameter efficient\n",
    "most_param_efficient = efficiency_df.loc[efficiency_df['Parameter_Efficiency'].idxmax()]\n",
    "recommendations.append({\n",
    "    'Category': 'Most Parameter Efficient',\n",
    "    'Model': most_param_efficient['Model'],\n",
    "    'Reason': f\"Best performance per parameter ({most_param_efficient['Parameter_Efficiency']:.4f})\",\n",
    "    'Use_Case': 'Resource-constrained environments'\n",
    "})\n",
    "\n",
    "# Display recommendations\n",
    "for rec in recommendations:\n",
    "    print(f\"\\n{rec['Category']}:\")\n",
    "    print(f\"  Model: {rec['Model']}\")\n",
    "    print(f\"  Reason: {rec['Reason']}\")\n",
    "    print(f\"  Best Use Case: {rec['Use_Case']}\")\n",
    "\n",
    "# Create recommendations DataFrame\n",
    "recommendations_df = pd.DataFrame(recommendations)\n",
    "print(\"\\n\\nSummary Table:\")\n",
    "print(recommendations_df[['Category', 'Model', 'Use_Case']])"
   ]
  },
  {
   "cell_type": "markdown",
   "metadata": {},
   "source": [
    "## Save Results"
   ]
  },
  {
   "cell_type": "code",
   "execution_count": 15,
   "metadata": {},
   "outputs": [
    {
     "name": "stdout",
     "output_type": "stream",
     "text": [
      "Results saved to:\n",
      "- results/multilingual_model_comparison.csv\n",
      "- results/model_efficiency_analysis.csv\n",
      "- results/detailed_predictions.csv\n",
      "- results/model_recommendations.csv\n",
      "- results/comprehensive_evaluation_results.json\n",
      "\n",
      "======================================================================\n",
      "COMPREHENSIVE MULTILINGUAL QA MODEL COMPARISON COMPLETE\n",
      "======================================================================\n",
      "Total Models Evaluated: 7\n",
      "Total Test Examples: 6\n",
      "Languages Tested: English, Arabic\n",
      "Metrics Calculated: Exact Match, F1 Score, Confidence, Inference Time\n",
      "Analysis Completed: Performance, Efficiency, Language-specific, Error Analysis\n",
      "\n",
      "Key Findings:\n",
      "- Best Overall Model: RoBERTa (F1: 0.704)\n",
      "- Most Efficient Model: RoBERTa (Ratio: 1.450)\n",
      "- Best English Model: BERT-Large (F1: 1.000)\n",
      "- Best Arabic Model: RoBERTa (F1: 0.629)\n",
      "======================================================================\n"
     ]
    }
   ],
   "source": [
    "# Save all results and analysis\n",
    "import os\n",
    "\n",
    "os.makedirs('results', exist_ok=True)\n",
    "\n",
    "# Save main results\n",
    "results_df.to_csv('results/multilingual_model_comparison.csv', index=False)\n",
    "efficiency_df.to_csv('results/model_efficiency_analysis.csv', index=False)\n",
    "detailed_df.to_csv('results/detailed_predictions.csv', index=False)\n",
    "recommendations_df.to_csv('results/model_recommendations.csv', index=False)\n",
    "\n",
    "# Save comprehensive results as JSON\n",
    "with open('results/comprehensive_evaluation_results.json', 'w', encoding='utf-8') as f:\n",
    "    # Prepare JSON-serializable data\n",
    "    json_results = {}\n",
    "    for model_name, results in evaluation_results.items():\n",
    "        json_results[model_name] = {\n",
    "            'model_config': results['model_config'],\n",
    "            'overall_metrics': {\n",
    "                k: float(v) if isinstance(v, (np.float64, np.float32)) else v \n",
    "                for k, v in results['overall_results']['metrics'].items()\n",
    "            }\n",
    "        }\n",
    "        \n",
    "        # Add language-specific metrics if available\n",
    "        if results['english_results']['metrics']:\n",
    "            json_results[model_name]['english_metrics'] = {\n",
    "                k: float(v) if isinstance(v, (np.float64, np.float32)) else v \n",
    "                for k, v in results['english_results']['metrics'].items()\n",
    "            }\n",
    "        \n",
    "        if results['arabic_results']['metrics']:\n",
    "            json_results[model_name]['arabic_metrics'] = {\n",
    "                k: float(v) if isinstance(v, (np.float64, np.float32)) else v \n",
    "                for k, v in results['arabic_results']['metrics'].items()\n",
    "            }\n",
    "    \n",
    "    json.dump(json_results, f, indent=2, ensure_ascii=False)\n",
    "\n",
    "print(\"Results saved to:\")\n",
    "print(\"- results/multilingual_model_comparison.csv\")\n",
    "print(\"- results/model_efficiency_analysis.csv\")\n",
    "print(\"- results/detailed_predictions.csv\")\n",
    "print(\"- results/model_recommendations.csv\")\n",
    "print(\"- results/comprehensive_evaluation_results.json\")\n",
    "\n",
    "# Print final summary\n",
    "print(\"\\n\" + \"=\"*70)\n",
    "print(\"COMPREHENSIVE MULTILINGUAL QA MODEL COMPARISON COMPLETE\")\n",
    "print(\"=\"*70)\n",
    "print(f\"Total Models Evaluated: {len(models_config)}\")\n",
    "print(f\"Total Test Examples: {len(all_test_data)}\")\n",
    "print(f\"Languages Tested: English, Arabic\")\n",
    "print(f\"Metrics Calculated: Exact Match, F1 Score, Confidence, Inference Time\")\n",
    "print(f\"Analysis Completed: Performance, Efficiency, Language-specific, Error Analysis\")\n",
    "print(\"\\nKey Findings:\")\n",
    "print(f\"- Best Overall Model: {best_overall['Model']} (F1: {best_overall['F1_Score']:.3f})\")\n",
    "print(f\"- Most Efficient Model: {most_efficient['Model']} (Ratio: {most_efficient['Efficiency_Ratio']:.3f})\")\n",
    "if not english_df.empty:\n",
    "    print(f\"- Best English Model: {best_english['Model']} (F1: {best_english['F1_Score']:.3f})\")\n",
    "if not arabic_df.empty:\n",
    "    print(f\"- Best Arabic Model: {best_arabic['Model']} (F1: {best_arabic['F1_Score']:.3f})\")\n",
    "print(\"=\"*70)"
   ]
  }
 ],
 "metadata": {
  "kernelspec": {
   "display_name": "qa_env",
   "language": "python",
   "name": "python3"
  },
  "language_info": {
   "codemirror_mode": {
    "name": "ipython",
    "version": 3
   },
   "file_extension": ".py",
   "mimetype": "text/x-python",
   "name": "python",
   "nbconvert_exporter": "python",
   "pygments_lexer": "ipython3",
   "version": "3.10.0"
  }
 },
 "nbformat": 4,
 "nbformat_minor": 4
}
